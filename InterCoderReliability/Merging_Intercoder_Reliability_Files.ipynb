{
 "cells": [
  {
   "cell_type": "code",
   "execution_count": 5,
   "metadata": {},
   "outputs": [
    {
     "name": "stdout",
     "output_type": "stream",
     "text": [
      "./Frenard\\ML071350662-Frenard.csv\n",
      "./Frenard\\ML082060602-Frenard.csv\n",
      "./Frenard\\ML092050743-Frenard.csv\n",
      "./Frenard\\ML11244A041-Frenard.csv\n",
      "./Frenard\\ML12027A131-Frenard.csv\n",
      "./Frenard\\ML13182A476-Frenard.csv\n",
      "./Frenard\\ML13298A103-Frenard.csv\n",
      "./Frenard\\ML14041A484-Frenard.csv\n",
      "./Frenard\\ML14087A338-Frenard.csv\n",
      "./Frenard\\ML15313A275-Frenard.csv\n",
      "./Frenard\\ML16021A133-Frenard.csv\n",
      "./Frenard\\ML17179A282-Frenard.csv\n",
      "./Frenard\\wat_2000010-Frenard.csv\n"
     ]
    }
   ],
   "source": [
    "import glob\n",
    "import numpy as np\n",
    "import pandas as pd \n",
    "\n",
    "files = glob.glob(\"./Frenard/*.csv\")\n",
    "filename = \"\"\n",
    "df = []\n",
    "\n",
    "for file in files:\n",
    "    print(file)\n",
    "    docfile = file.split('-')\n",
    "    data = pd.read_csv(file, encoding='cp1252')\n",
    "    \n",
    "    if filename != data['file'][0].split('.')[0]+'.csv':\n",
    "        if len(filename)>0:\n",
    "            df.to_csv(\"MergedFiles-Frenard/\"+filename, header=True)\n",
    "        filename=data['file'][0].split('.')[0]+'.csv'\n",
    "        df = data\n",
    "        df.rename(columns = {\"label\":\"label_\"+docfile[1].split('.')[0]}, inplace=True) \n",
    "    else:\n",
    "        df['label_'+docfile[1].split('.')[0]] = data['label']\n",
    "        \n",
    "if len(filename)>0:\n",
    "    df.to_csv(\"MergedFiles-Frenard/\"+filename, header=True)\n",
    " "
   ]
  },
  {
   "cell_type": "code",
   "execution_count": 5,
   "metadata": {},
   "outputs": [],
   "source": [
    "import glob\n",
    "import numpy as np\n",
    "import pandas as pd \n",
    "\n",
    "files1 = glob.glob(\"./MergedFiles-SALLY/*.csv\")\n",
    "files2 = glob.glob(\"./MergedFiles-struck/*.csv\")\n",
    "filename = \"\"\n",
    "df = []\n",
    "\n",
    "for file1 in files1:\n",
    "    for file2 in files2:\n",
    "        if file1.split('/')[2] == file2.split('/')[2]:\n",
    "            data1 = pd.read_csv(file1, encoding='cp1252')\n",
    "            data2 = pd.read_csv(file2, encoding='cp1252')\n",
    "            df = data1\n",
    "            df['label_struck'] = data2['label_struck']\n",
    "            df.to_csv(\"MergedFiles-SALLY-struck/\"+data1['file'][0].split('.')[0]+'.csv', header=True)\n",
    "        "
   ]
  },
  {
   "cell_type": "code",
   "execution_count": null,
   "metadata": {},
   "outputs": [],
   "source": []
  }
 ],
 "metadata": {
  "kernelspec": {
   "display_name": "Python 3",
   "language": "python",
   "name": "python3"
  },
  "language_info": {
   "codemirror_mode": {
    "name": "ipython",
    "version": 3
   },
   "file_extension": ".py",
   "mimetype": "text/x-python",
   "name": "python",
   "nbconvert_exporter": "python",
   "pygments_lexer": "ipython3",
   "version": "3.7.4"
  }
 },
 "nbformat": 4,
 "nbformat_minor": 2
}
