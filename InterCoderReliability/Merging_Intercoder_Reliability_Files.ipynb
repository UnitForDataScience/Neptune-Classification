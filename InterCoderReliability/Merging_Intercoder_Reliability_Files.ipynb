{
 "cells": [
  {
   "cell_type": "code",
   "execution_count": null,
   "metadata": {},
   "outputs": [],
   "source": [
    "import glob\n",
    "import numpy as np\n",
    "import pandas as pd \n",
    "\n",
    "files = glob.glob(\"../Intercoder Reliability/*.csv\")\n",
    "filename = \"\"\n",
    "df = []\n",
    "\n",
    "for file in files:\n",
    "    \n",
    "    docfile = file.split('-')\n",
    "    data = pd.read_csv(file, encoding='cp1252')\n",
    "    \n",
    "    if filename != data['file'][0].split('.')[0]+'.csv':\n",
    "        if len(filename)>0:\n",
    "            df.to_csv(filename, header=True)\n",
    "        filename=data['file'][0].split('.')[0]+'.csv'\n",
    "        df = data\n",
    "        df.rename(columns = {\"label\":\"label_\"+docfile[1].split('.')[0]}, inplace=True) \n",
    "    else:\n",
    "        df['label_'+docfile[1].split('.')[0]] = data['label']\n",
    "        \n",
    "if len(filename)>0:\n",
    "    df.to_csv(filename, header=True)\n",
    " "
   ]
  }
 ],
 "metadata": {
  "kernelspec": {
   "display_name": "Python 3",
   "language": "python",
   "name": "python3"
  },
  "language_info": {
   "codemirror_mode": {
    "name": "ipython",
    "version": 3
   },
   "file_extension": ".py",
   "mimetype": "text/x-python",
   "name": "python",
   "nbconvert_exporter": "python",
   "pygments_lexer": "ipython3",
   "version": "3.7.0"
  }
 },
 "nbformat": 4,
 "nbformat_minor": 2
}
