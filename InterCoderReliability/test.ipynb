{
 "cells": [
  {
   "cell_type": "code",
   "execution_count": 1,
   "metadata": {},
   "outputs": [],
   "source": [
    "import glob\n",
    "import numpy as np\n",
    "import pandas as pd  "
   ]
  },
  {
   "cell_type": "code",
   "execution_count": 5,
   "metadata": {},
   "outputs": [
    {
     "name": "stdout",
     "output_type": "stream",
     "text": [
      "ML14041A484.txt\n",
      "41\n",
      "\n",
      "ML14087A338.txt\n",
      "30\n",
      "\n",
      "ML061290031.txt\n",
      "27\n",
      "\n",
      "ML12027A131.txt\n",
      "12\n",
      "\n",
      "ML12220A342.txt\n",
      "21\n",
      "\n",
      "ML13127A206.txt\n",
      "5\n",
      "\n",
      "ML13298A103.txt\n",
      "2\n",
      "\n",
      "ML11244A041.txt\n",
      "22\n",
      "\n",
      "ML072260460.txt\n",
      "54\n",
      "\n",
      "ML13308A903.txt\n",
      "21\n",
      "\n",
      "ginn_2002005.txt\n",
      "8\n",
      "\n",
      "cp_2004002.txt\n",
      "6\n",
      "\n",
      "wat_2000010.txt\n",
      "4\n",
      "\n",
      "davi_2004012.txt\n",
      "1\n",
      "\n",
      "ML11300A116.txt\n",
      "42\n",
      "\n",
      "ML13182A476.txt\n",
      "14\n",
      "\n",
      "ML071350662.txt\n",
      "11\n",
      "\n"
     ]
    }
   ],
   "source": [
    "files = [f for f in glob.glob(\"/Users/asudatascience/NeptuneProject/Repositories/Fall2019/Classification/MultiClassClassifier/InterCoderReliability/raw_data_csvfiles/MergedFiles-SALLY/*.csv\")]\n",
    "\n",
    "for file in files:\n",
    "    df = pd.read_csv(file)\n",
    "    df = df.replace(np.nan, '', regex=True)\n",
    "    \n",
    "    print(df['file'][0])\n",
    "    count = 0\n",
    "    for label in df['label_SALLY']:\n",
    "        if label != 'U':\n",
    "            count +=1\n",
    "    print(count)\n",
    "    print()"
   ]
  },
  {
   "cell_type": "code",
   "execution_count": null,
   "metadata": {},
   "outputs": [],
   "source": []
  }
 ],
 "metadata": {
  "kernelspec": {
   "display_name": "Python 3",
   "language": "python",
   "name": "python3"
  },
  "language_info": {
   "codemirror_mode": {
    "name": "ipython",
    "version": 3
   },
   "file_extension": ".py",
   "mimetype": "text/x-python",
   "name": "python",
   "nbconvert_exporter": "python",
   "pygments_lexer": "ipython3",
   "version": "3.7.4"
  }
 },
 "nbformat": 4,
 "nbformat_minor": 2
}
