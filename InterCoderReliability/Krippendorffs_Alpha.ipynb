{
 "cells": [
  {
   "cell_type": "markdown",
   "metadata": {},
   "source": [
    "# Krippendorff's Kappa Score"
   ]
  },
  {
   "cell_type": "markdown",
   "metadata": {},
   "source": [
    "The goal is to calculate the Krippendorff's alpha to make an assessment of the intercoder reliability between our three coders Frenard, Sally and Trixy.\n",
    "\n",
    "We calculate the alpha score between 2 coder pairs and overall alpha score for each file.\n",
    "\n",
    "While calculating the score, following considerations were made:\n",
    "    Only codes 'T','P','O','D','H','U' are considered. All other values are treated as nan\n",
    "    In case of multiple Codes for a given sentence, only the first value is considered.\n",
    "    In the second calculation of Krippendorff's alpha, we treat code 'U' as nan\n",
    "    \n",
    "\n"
   ]
  },
  {
   "cell_type": "code",
   "execution_count": 1,
   "metadata": {},
   "outputs": [],
   "source": [
    "import krippendorff\n",
    "import glob\n",
    "import numpy as np\n",
    "import pandas as pd  \n",
    "import IPython"
   ]
  },
  {
   "cell_type": "code",
   "execution_count": 2,
   "metadata": {},
   "outputs": [
    {
     "name": "stdout",
     "output_type": "stream",
     "text": [
      "<class 'pandas.core.frame.DataFrame'>\n",
      "Index: 0 entries\n",
      "Data columns (total 5 columns):\n",
      "File                   0 non-null object\n",
      "Frenard_Sally_Alpha    0 non-null object\n",
      "Trixy_Sally_Alpha      0 non-null object\n",
      "Frenard_Trixy_Alpha    0 non-null object\n",
      "Overall_Alpha          0 non-null object\n",
      "dtypes: object(5)\n",
      "memory usage: 0.0+ bytes\n"
     ]
    }
   ],
   "source": [
    "df_alpha = pd.DataFrame(columns=['File','Frenard_Sally_Alpha', 'Trixy_Sally_Alpha', 'Frenard_Trixy_Alpha','Overall_Alpha'])\n",
    "df_alpha.info()"
   ]
  },
  {
   "cell_type": "code",
   "execution_count": 3,
   "metadata": {},
   "outputs": [
    {
     "data": {
      "text/plain": [
       "['MergedFiles/ML13298A103.csv',\n",
       " 'MergedFiles/ML14041A484.csv',\n",
       " 'MergedFiles/ML12027A131.csv',\n",
       " 'MergedFiles/ML13182A476.csv',\n",
       " 'MergedFiles/wat_2000010.csv',\n",
       " 'MergedFiles/ML071350662.csv',\n",
       " 'MergedFiles/ML14087A338.csv']"
      ]
     },
     "execution_count": 3,
     "metadata": {},
     "output_type": "execute_result"
    }
   ],
   "source": [
    "files = [f for f in glob.glob(\"MergedFiles/*.csv\")]\n",
    "\n",
    "compr_files = []\n",
    "\n",
    "for file in files:\n",
    "    if len(file.split('-'))==1:\n",
    "        compr_files.append(file)\n",
    "compr_files"
   ]
  },
  {
   "cell_type": "markdown",
   "metadata": {},
   "source": [
    "## Functions to Filter Sentence Codes"
   ]
  },
  {
   "cell_type": "code",
   "execution_count": 4,
   "metadata": {},
   "outputs": [],
   "source": [
    "labels_with_u = {'T':1, 'P':2, 'O':3, 'D': 4, 'H':5, 'U':6}\n",
    "def key_to_value(key):\n",
    "    if type(key) == float:\n",
    "        return np.nan\n",
    "    key = key.strip()\n",
    "    key.split(',')\n",
    "    key = key[0]\n",
    "    return labels_with_u[key]\n",
    "\n",
    "labels_without_u = {'T':1, 'P':2, 'O':3, 'D': 4, 'H':5, 'U':np.nan}\n",
    "def key_to_value_ignoring_u(key):\n",
    "    if type(key) == float:\n",
    "        return np.nan\n",
    "    key = key.strip()\n",
    "    key.split(',')\n",
    "    key = key[0]\n",
    "    return labels_without_u[key]"
   ]
  },
  {
   "cell_type": "markdown",
   "metadata": {},
   "source": [
    "## Calculating Krippendorff's Alpha for Each File + Overall KA value"
   ]
  },
  {
   "cell_type": "code",
   "execution_count": 5,
   "metadata": {},
   "outputs": [],
   "source": [
    "def krippendorff_alpha(filter_key,compr_files):\n",
    "    df_alpha = pd.DataFrame(columns=['File','Frenard_Sally_Alpha', 'Trixy_Sally_Alpha', 'Frenard_Trixy_Alpha','Overall_Alpha','Reliability_Matrix'])\n",
    "    file_name = []\n",
    "    frenard_sally_alpha = []\n",
    "    trixy_sally_alpha = []\n",
    "    frenard_trixy_alpha = []\n",
    "    overall_alpha = []\n",
    "    rel_mat = []\n",
    "    for file in compr_files:\n",
    "        df = pd.read_csv(file)\n",
    "        df['label_Frenard'] = df['label_Frenard'].apply(filter_key)\n",
    "        df['label_SALLY'] = df['label_SALLY'].apply(filter_key)\n",
    "        df['label_struck'] = df['label_struck'].apply(filter_key)\n",
    "        reliability_matrix = np.asarray([df['label_Frenard'],df['label_SALLY'],df['label_struck']])\n",
    "        rel_mat.append(reliability_matrix)\n",
    "        file_name.append(df['file'][0])\n",
    "        frenard_sally_alpha.append(krippendorff.alpha(reliability_matrix[[0,1]]))\n",
    "        trixy_sally_alpha.append(krippendorff.alpha(reliability_matrix[[1,2]]))\n",
    "        frenard_trixy_alpha.append(krippendorff.alpha(reliability_matrix[[0,2]]))\n",
    "        overall_alpha.append(krippendorff.alpha(reliability_matrix))\n",
    "    df_alpha['File'] = file_name\n",
    "    df_alpha['Frenard_Sally_Alpha'] = frenard_sally_alpha\n",
    "    df_alpha['Trixy_Sally_Alpha'] = trixy_sally_alpha\n",
    "    df_alpha['Frenard_Trixy_Alpha'] = frenard_trixy_alpha\n",
    "    df_alpha['Overall_Alpha'] = overall_alpha\n",
    "    df_alpha['Reliability_Matrix'] = rel_mat\n",
    "    \n",
    "    #Calculating overall krippendorff's alpha over all the files\n",
    "    fr = []\n",
    "    tx = []\n",
    "    sa = []\n",
    "    for i in df_alpha['Reliability_Matrix']:\n",
    "        fr += list(i[0])\n",
    "        sa += list(i[1])\n",
    "        tx += list(i[2])\n",
    "    rm = np.asarray([fr,tx,sa])\n",
    "    overall_ka = krippendorff.alpha(rm)\n",
    "    df_alpha = df_alpha.drop(['Reliability_Matrix'],axis=1)\n",
    "    return df_alpha, overall_ka"
   ]
  },
  {
   "cell_type": "markdown",
   "metadata": {},
   "source": [
    "## Krippendorff's Alpha with U"
   ]
  },
  {
   "cell_type": "code",
   "execution_count": 6,
   "metadata": {},
   "outputs": [
    {
     "name": "stdout",
     "output_type": "stream",
     "text": [
      "Overall Krippendorff's Alpha Value over all files:  0.7457093460230212\n"
     ]
    },
    {
     "data": {
      "text/html": [
       "<div>\n",
       "<style scoped>\n",
       "    .dataframe tbody tr th:only-of-type {\n",
       "        vertical-align: middle;\n",
       "    }\n",
       "\n",
       "    .dataframe tbody tr th {\n",
       "        vertical-align: top;\n",
       "    }\n",
       "\n",
       "    .dataframe thead th {\n",
       "        text-align: right;\n",
       "    }\n",
       "</style>\n",
       "<table border=\"1\" class=\"dataframe\">\n",
       "  <thead>\n",
       "    <tr style=\"text-align: right;\">\n",
       "      <th></th>\n",
       "      <th>File</th>\n",
       "      <th>Frenard_Sally_Alpha</th>\n",
       "      <th>Trixy_Sally_Alpha</th>\n",
       "      <th>Frenard_Trixy_Alpha</th>\n",
       "      <th>Overall_Alpha</th>\n",
       "    </tr>\n",
       "  </thead>\n",
       "  <tbody>\n",
       "    <tr>\n",
       "      <th>0</th>\n",
       "      <td>ML13298A103.txt</td>\n",
       "      <td>-0.002800</td>\n",
       "      <td>-0.002800</td>\n",
       "      <td>1.000000</td>\n",
       "      <td>0.497581</td>\n",
       "    </tr>\n",
       "    <tr>\n",
       "      <th>1</th>\n",
       "      <td>ML14041A484.txt</td>\n",
       "      <td>0.555551</td>\n",
       "      <td>0.513491</td>\n",
       "      <td>0.949251</td>\n",
       "      <td>0.694262</td>\n",
       "    </tr>\n",
       "    <tr>\n",
       "      <th>2</th>\n",
       "      <td>ML12027A131.txt</td>\n",
       "      <td>0.676120</td>\n",
       "      <td>0.807085</td>\n",
       "      <td>0.877529</td>\n",
       "      <td>0.788997</td>\n",
       "    </tr>\n",
       "    <tr>\n",
       "      <th>3</th>\n",
       "      <td>ML13182A476.txt</td>\n",
       "      <td>0.791676</td>\n",
       "      <td>0.841701</td>\n",
       "      <td>0.947895</td>\n",
       "      <td>0.864379</td>\n",
       "    </tr>\n",
       "    <tr>\n",
       "      <th>4</th>\n",
       "      <td>wat_2000010.txt</td>\n",
       "      <td>1.000000</td>\n",
       "      <td>1.000000</td>\n",
       "      <td>1.000000</td>\n",
       "      <td>1.000000</td>\n",
       "    </tr>\n",
       "    <tr>\n",
       "      <th>5</th>\n",
       "      <td>ML071350662.txt</td>\n",
       "      <td>0.930124</td>\n",
       "      <td>0.920120</td>\n",
       "      <td>0.976858</td>\n",
       "      <td>0.942764</td>\n",
       "    </tr>\n",
       "    <tr>\n",
       "      <th>6</th>\n",
       "      <td>ML14087A338.txt</td>\n",
       "      <td>0.513330</td>\n",
       "      <td>0.520178</td>\n",
       "      <td>1.000000</td>\n",
       "      <td>0.686410</td>\n",
       "    </tr>\n",
       "  </tbody>\n",
       "</table>\n",
       "</div>"
      ],
      "text/plain": [
       "              File  Frenard_Sally_Alpha  Trixy_Sally_Alpha  \\\n",
       "0  ML13298A103.txt            -0.002800          -0.002800   \n",
       "1  ML14041A484.txt             0.555551           0.513491   \n",
       "2  ML12027A131.txt             0.676120           0.807085   \n",
       "3  ML13182A476.txt             0.791676           0.841701   \n",
       "4  wat_2000010.txt             1.000000           1.000000   \n",
       "5  ML071350662.txt             0.930124           0.920120   \n",
       "6  ML14087A338.txt             0.513330           0.520178   \n",
       "\n",
       "   Frenard_Trixy_Alpha  Overall_Alpha  \n",
       "0             1.000000       0.497581  \n",
       "1             0.949251       0.694262  \n",
       "2             0.877529       0.788997  \n",
       "3             0.947895       0.864379  \n",
       "4             1.000000       1.000000  \n",
       "5             0.976858       0.942764  \n",
       "6             1.000000       0.686410  "
      ]
     },
     "execution_count": 6,
     "metadata": {},
     "output_type": "execute_result"
    }
   ],
   "source": [
    "df_alpha_with_u, overall_k_a_with_u = krippendorff_alpha(key_to_value,compr_files)\n",
    "print(\"Overall Krippendorff's Alpha Value over all files: \", overall_k_a_with_u)\n",
    "df_alpha_with_u"
   ]
  },
  {
   "cell_type": "markdown",
   "metadata": {},
   "source": [
    "## Krippendorff's Alpha without U"
   ]
  },
  {
   "cell_type": "code",
   "execution_count": 9,
   "metadata": {
    "scrolled": true
   },
   "outputs": [
    {
     "name": "stdout",
     "output_type": "stream",
     "text": [
      "Overall Krippendorff's Alpha Value over all files:  0.7240027147273962\n"
     ]
    },
    {
     "data": {
      "text/html": [
       "<div>\n",
       "<style scoped>\n",
       "    .dataframe tbody tr th:only-of-type {\n",
       "        vertical-align: middle;\n",
       "    }\n",
       "\n",
       "    .dataframe tbody tr th {\n",
       "        vertical-align: top;\n",
       "    }\n",
       "\n",
       "    .dataframe thead th {\n",
       "        text-align: right;\n",
       "    }\n",
       "</style>\n",
       "<table border=\"1\" class=\"dataframe\">\n",
       "  <thead>\n",
       "    <tr style=\"text-align: right;\">\n",
       "      <th></th>\n",
       "      <th>File</th>\n",
       "      <th>Frenard_Sally_Alpha</th>\n",
       "      <th>Trixy_Sally_Alpha</th>\n",
       "      <th>Frenard_Trixy_Alpha</th>\n",
       "      <th>Overall_Alpha</th>\n",
       "    </tr>\n",
       "  </thead>\n",
       "  <tbody>\n",
       "    <tr>\n",
       "      <th>0</th>\n",
       "      <td>ML13298A103.txt</td>\n",
       "      <td>NaN</td>\n",
       "      <td>NaN</td>\n",
       "      <td>1.000000</td>\n",
       "      <td>1.000000</td>\n",
       "    </tr>\n",
       "    <tr>\n",
       "      <th>1</th>\n",
       "      <td>ML14041A484.txt</td>\n",
       "      <td>0.111009</td>\n",
       "      <td>-0.103736</td>\n",
       "      <td>0.884672</td>\n",
       "      <td>0.611436</td>\n",
       "    </tr>\n",
       "    <tr>\n",
       "      <th>2</th>\n",
       "      <td>ML12027A131.txt</td>\n",
       "      <td>0.636364</td>\n",
       "      <td>1.000000</td>\n",
       "      <td>0.713528</td>\n",
       "      <td>0.790442</td>\n",
       "    </tr>\n",
       "    <tr>\n",
       "      <th>3</th>\n",
       "      <td>ML13182A476.txt</td>\n",
       "      <td>0.683544</td>\n",
       "      <td>0.683544</td>\n",
       "      <td>1.000000</td>\n",
       "      <td>0.814516</td>\n",
       "    </tr>\n",
       "    <tr>\n",
       "      <th>4</th>\n",
       "      <td>wat_2000010.txt</td>\n",
       "      <td>1.000000</td>\n",
       "      <td>1.000000</td>\n",
       "      <td>1.000000</td>\n",
       "      <td>1.000000</td>\n",
       "    </tr>\n",
       "    <tr>\n",
       "      <th>5</th>\n",
       "      <td>ML071350662.txt</td>\n",
       "      <td>0.960000</td>\n",
       "      <td>1.000000</td>\n",
       "      <td>0.961715</td>\n",
       "      <td>0.974930</td>\n",
       "    </tr>\n",
       "    <tr>\n",
       "      <th>6</th>\n",
       "      <td>ML14087A338.txt</td>\n",
       "      <td>-0.043515</td>\n",
       "      <td>-0.131687</td>\n",
       "      <td>1.000000</td>\n",
       "      <td>0.572983</td>\n",
       "    </tr>\n",
       "  </tbody>\n",
       "</table>\n",
       "</div>"
      ],
      "text/plain": [
       "              File  Frenard_Sally_Alpha  Trixy_Sally_Alpha  \\\n",
       "0  ML13298A103.txt                  NaN                NaN   \n",
       "1  ML14041A484.txt             0.111009          -0.103736   \n",
       "2  ML12027A131.txt             0.636364           1.000000   \n",
       "3  ML13182A476.txt             0.683544           0.683544   \n",
       "4  wat_2000010.txt             1.000000           1.000000   \n",
       "5  ML071350662.txt             0.960000           1.000000   \n",
       "6  ML14087A338.txt            -0.043515          -0.131687   \n",
       "\n",
       "   Frenard_Trixy_Alpha  Overall_Alpha  \n",
       "0             1.000000       1.000000  \n",
       "1             0.884672       0.611436  \n",
       "2             0.713528       0.790442  \n",
       "3             1.000000       0.814516  \n",
       "4             1.000000       1.000000  \n",
       "5             0.961715       0.974930  \n",
       "6             1.000000       0.572983  "
      ]
     },
     "execution_count": 9,
     "metadata": {},
     "output_type": "execute_result"
    }
   ],
   "source": [
    "df_alpha_without_u, overall_k_a_without_u = krippendorff_alpha(key_to_value_ignoring_u,compr_files)\n",
    "print(\"Overall Krippendorff's Alpha Value over all files: \", overall_k_a_without_u)\n",
    "df_alpha_without_u"
   ]
  },
  {
   "cell_type": "code",
   "execution_count": 8,
   "metadata": {},
   "outputs": [],
   "source": [
    "df_alpha_with_u.to_csv('Results/Intercode_Reliability_Krippendorf_alpha_with_U.csv', header=True)\n",
    "df_alpha_without_u.to_csv('Results/Intercode_Reliability_Krippendorf_alpha_without_U.csv', header=True)"
   ]
  },
  {
   "cell_type": "code",
   "execution_count": null,
   "metadata": {},
   "outputs": [],
   "source": []
  }
 ],
 "metadata": {
  "kernelspec": {
   "display_name": "Python 3",
   "language": "python",
   "name": "python3"
  },
  "language_info": {
   "codemirror_mode": {
    "name": "ipython",
    "version": 3
   },
   "file_extension": ".py",
   "mimetype": "text/x-python",
   "name": "python",
   "nbconvert_exporter": "python",
   "pygments_lexer": "ipython3",
   "version": "3.7.0"
  }
 },
 "nbformat": 4,
 "nbformat_minor": 2
}
