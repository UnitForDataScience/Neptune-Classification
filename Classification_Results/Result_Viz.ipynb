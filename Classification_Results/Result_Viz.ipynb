{
 "cells": [
  {
   "cell_type": "code",
   "execution_count": 1,
   "metadata": {},
   "outputs": [],
   "source": [
    "import glob\n",
    "import numpy as np\n",
    "import pandas as pd\n",
    "import seaborn as sns\n",
    "import matplotlib.pyplot as plt\n",
    "from sklearn.metrics import confusion_matrix"
   ]
  },
  {
   "cell_type": "code",
   "execution_count": 2,
   "metadata": {},
   "outputs": [],
   "source": [
    "df_glove = pd.read_csv(\"GloVe/Final_Results.csv\")\n",
    "df_google_w2v = pd.read_csv(\"GoogleW2V/Final_Results.csv\")\n",
    "df_trained_w2v = pd.read_csv(\"TrainedW2V/Final_Results.csv\")"
   ]
  },
  {
   "cell_type": "markdown",
   "metadata": {},
   "source": [
    "# Results of GloVe+LSTM model"
   ]
  },
  {
   "cell_type": "code",
   "execution_count": 3,
   "metadata": {},
   "outputs": [
    {
     "data": {
      "text/html": [
       "<div>\n",
       "<style scoped>\n",
       "    .dataframe tbody tr th:only-of-type {\n",
       "        vertical-align: middle;\n",
       "    }\n",
       "\n",
       "    .dataframe tbody tr th {\n",
       "        vertical-align: top;\n",
       "    }\n",
       "\n",
       "    .dataframe thead th {\n",
       "        text-align: right;\n",
       "    }\n",
       "</style>\n",
       "<table border=\"1\" class=\"dataframe\">\n",
       "  <thead>\n",
       "    <tr style=\"text-align: right;\">\n",
       "      <th></th>\n",
       "      <th>Coder</th>\n",
       "      <th>Train_Accuracy</th>\n",
       "      <th>Val_Accuracy</th>\n",
       "      <th>Test_Accuracy</th>\n",
       "      <th>#TestData</th>\n",
       "      <th>#AllData</th>\n",
       "      <th>Classes</th>\n",
       "      <th>Confusion Matrix</th>\n",
       "      <th>Precision</th>\n",
       "      <th>Recall</th>\n",
       "      <th>F1</th>\n",
       "    </tr>\n",
       "  </thead>\n",
       "  <tbody>\n",
       "    <tr>\n",
       "      <th>0</th>\n",
       "      <td>Binary_Classification</td>\n",
       "      <td>0.706972</td>\n",
       "      <td>0.894231</td>\n",
       "      <td>0.682927</td>\n",
       "      <td>123</td>\n",
       "      <td>634</td>\n",
       "      <td>['N', 'U']</td>\n",
       "      <td>[[51  7]\\n [32 33]]</td>\n",
       "      <td>0.614458</td>\n",
       "      <td>0.87931</td>\n",
       "      <td>0.723404</td>\n",
       "    </tr>\n",
       "    <tr>\n",
       "      <th>1</th>\n",
       "      <td>Sally</td>\n",
       "      <td>0.890370</td>\n",
       "      <td>0.910256</td>\n",
       "      <td>0.621212</td>\n",
       "      <td>66</td>\n",
       "      <td>317</td>\n",
       "      <td>['O', 'P', 'H', 'T', 'D']</td>\n",
       "      <td>[[41  0  0  0  0]\\n [ 7  0  0  0  0]\\n [ 2  0 ...</td>\n",
       "      <td>NaN</td>\n",
       "      <td>NaN</td>\n",
       "      <td>NaN</td>\n",
       "    </tr>\n",
       "    <tr>\n",
       "      <th>2</th>\n",
       "      <td>Trixy</td>\n",
       "      <td>0.808934</td>\n",
       "      <td>0.800000</td>\n",
       "      <td>0.464789</td>\n",
       "      <td>71</td>\n",
       "      <td>395</td>\n",
       "      <td>['P', 'D', 'T', 'O', 'H']</td>\n",
       "      <td>[[12  0  0  6  0]\\n [ 2  0  0  0  0]\\n [ 7  0 ...</td>\n",
       "      <td>NaN</td>\n",
       "      <td>NaN</td>\n",
       "      <td>NaN</td>\n",
       "    </tr>\n",
       "    <tr>\n",
       "      <th>3</th>\n",
       "      <td>Frenard</td>\n",
       "      <td>0.820666</td>\n",
       "      <td>0.817647</td>\n",
       "      <td>0.430380</td>\n",
       "      <td>79</td>\n",
       "      <td>413</td>\n",
       "      <td>['D', 'H', 'T', 'P', 'O']</td>\n",
       "      <td>[[ 0  0  0  0  6]\\n [ 0  0  2  1  1]\\n [ 0  0 ...</td>\n",
       "      <td>NaN</td>\n",
       "      <td>NaN</td>\n",
       "      <td>NaN</td>\n",
       "    </tr>\n",
       "    <tr>\n",
       "      <th>4</th>\n",
       "      <td>Sally_Trixy_Agree</td>\n",
       "      <td>0.922000</td>\n",
       "      <td>0.833333</td>\n",
       "      <td>0.531250</td>\n",
       "      <td>32</td>\n",
       "      <td>144</td>\n",
       "      <td>['P', 'H', 'T', 'D', 'O']</td>\n",
       "      <td>[[ 0  0  0  0  6]\\n [ 0  0  0  0  1]\\n [ 0  0 ...</td>\n",
       "      <td>NaN</td>\n",
       "      <td>NaN</td>\n",
       "      <td>NaN</td>\n",
       "    </tr>\n",
       "    <tr>\n",
       "      <th>5</th>\n",
       "      <td>Sally_Frenard_Agree</td>\n",
       "      <td>0.904000</td>\n",
       "      <td>0.666667</td>\n",
       "      <td>0.571429</td>\n",
       "      <td>14</td>\n",
       "      <td>70</td>\n",
       "      <td>['O', 'P', 'T']</td>\n",
       "      <td>[[8 0 0]\\n [4 0 0]\\n [2 0 0]]</td>\n",
       "      <td>NaN</td>\n",
       "      <td>NaN</td>\n",
       "      <td>NaN</td>\n",
       "    </tr>\n",
       "    <tr>\n",
       "      <th>6</th>\n",
       "      <td>Sally_Trixy_DisAgree</td>\n",
       "      <td>0.958333</td>\n",
       "      <td>0.571429</td>\n",
       "      <td>0.764706</td>\n",
       "      <td>17</td>\n",
       "      <td>84</td>\n",
       "      <td>['T', 'H', 'O']</td>\n",
       "      <td>[[ 1  0  3]\\n [ 0  0  1]\\n [ 0  0 12]]</td>\n",
       "      <td>NaN</td>\n",
       "      <td>NaN</td>\n",
       "      <td>NaN</td>\n",
       "    </tr>\n",
       "    <tr>\n",
       "      <th>7</th>\n",
       "      <td>Sally_Frenard_DisAgree</td>\n",
       "      <td>0.896739</td>\n",
       "      <td>0.916667</td>\n",
       "      <td>0.800000</td>\n",
       "      <td>10</td>\n",
       "      <td>62</td>\n",
       "      <td>['H', 'O']</td>\n",
       "      <td>[[0 2]\\n [0 8]]</td>\n",
       "      <td>NaN</td>\n",
       "      <td>NaN</td>\n",
       "      <td>NaN</td>\n",
       "    </tr>\n",
       "    <tr>\n",
       "      <th>8</th>\n",
       "      <td>Trixy_Sally_DisAgree</td>\n",
       "      <td>0.852525</td>\n",
       "      <td>0.800000</td>\n",
       "      <td>0.375000</td>\n",
       "      <td>24</td>\n",
       "      <td>134</td>\n",
       "      <td>['O', 'D', 'T', 'P']</td>\n",
       "      <td>[[4 0 2 4]\\n [0 0 0 2]\\n [0 0 1 5]\\n [1 0 1 4]]</td>\n",
       "      <td>NaN</td>\n",
       "      <td>NaN</td>\n",
       "      <td>NaN</td>\n",
       "    </tr>\n",
       "    <tr>\n",
       "      <th>9</th>\n",
       "      <td>Frenard_Sally_DisAgree</td>\n",
       "      <td>0.883673</td>\n",
       "      <td>0.818182</td>\n",
       "      <td>0.500000</td>\n",
       "      <td>24</td>\n",
       "      <td>133</td>\n",
       "      <td>['P', 'T', 'D', 'O']</td>\n",
       "      <td>[[ 1  1  0  4]\\n [ 1  1  1  2]\\n [ 2  0  0  0]...</td>\n",
       "      <td>NaN</td>\n",
       "      <td>NaN</td>\n",
       "      <td>NaN</td>\n",
       "    </tr>\n",
       "  </tbody>\n",
       "</table>\n",
       "</div>"
      ],
      "text/plain": [
       "                    Coder  Train_Accuracy  Val_Accuracy  Test_Accuracy  \\\n",
       "0   Binary_Classification        0.706972      0.894231       0.682927   \n",
       "1                   Sally        0.890370      0.910256       0.621212   \n",
       "2                   Trixy        0.808934      0.800000       0.464789   \n",
       "3                 Frenard        0.820666      0.817647       0.430380   \n",
       "4       Sally_Trixy_Agree        0.922000      0.833333       0.531250   \n",
       "5     Sally_Frenard_Agree        0.904000      0.666667       0.571429   \n",
       "6    Sally_Trixy_DisAgree        0.958333      0.571429       0.764706   \n",
       "7  Sally_Frenard_DisAgree        0.896739      0.916667       0.800000   \n",
       "8    Trixy_Sally_DisAgree        0.852525      0.800000       0.375000   \n",
       "9  Frenard_Sally_DisAgree        0.883673      0.818182       0.500000   \n",
       "\n",
       "   #TestData  #AllData                    Classes  \\\n",
       "0        123       634                 ['N', 'U']   \n",
       "1         66       317  ['O', 'P', 'H', 'T', 'D']   \n",
       "2         71       395  ['P', 'D', 'T', 'O', 'H']   \n",
       "3         79       413  ['D', 'H', 'T', 'P', 'O']   \n",
       "4         32       144  ['P', 'H', 'T', 'D', 'O']   \n",
       "5         14        70            ['O', 'P', 'T']   \n",
       "6         17        84            ['T', 'H', 'O']   \n",
       "7         10        62                 ['H', 'O']   \n",
       "8         24       134       ['O', 'D', 'T', 'P']   \n",
       "9         24       133       ['P', 'T', 'D', 'O']   \n",
       "\n",
       "                                    Confusion Matrix  Precision   Recall  \\\n",
       "0                                [[51  7]\\n [32 33]]   0.614458  0.87931   \n",
       "1  [[41  0  0  0  0]\\n [ 7  0  0  0  0]\\n [ 2  0 ...        NaN      NaN   \n",
       "2  [[12  0  0  6  0]\\n [ 2  0  0  0  0]\\n [ 7  0 ...        NaN      NaN   \n",
       "3  [[ 0  0  0  0  6]\\n [ 0  0  2  1  1]\\n [ 0  0 ...        NaN      NaN   \n",
       "4  [[ 0  0  0  0  6]\\n [ 0  0  0  0  1]\\n [ 0  0 ...        NaN      NaN   \n",
       "5                      [[8 0 0]\\n [4 0 0]\\n [2 0 0]]        NaN      NaN   \n",
       "6             [[ 1  0  3]\\n [ 0  0  1]\\n [ 0  0 12]]        NaN      NaN   \n",
       "7                                    [[0 2]\\n [0 8]]        NaN      NaN   \n",
       "8    [[4 0 2 4]\\n [0 0 0 2]\\n [0 0 1 5]\\n [1 0 1 4]]        NaN      NaN   \n",
       "9  [[ 1  1  0  4]\\n [ 1  1  1  2]\\n [ 2  0  0  0]...        NaN      NaN   \n",
       "\n",
       "         F1  \n",
       "0  0.723404  \n",
       "1       NaN  \n",
       "2       NaN  \n",
       "3       NaN  \n",
       "4       NaN  \n",
       "5       NaN  \n",
       "6       NaN  \n",
       "7       NaN  \n",
       "8       NaN  \n",
       "9       NaN  "
      ]
     },
     "execution_count": 3,
     "metadata": {},
     "output_type": "execute_result"
    }
   ],
   "source": [
    "df_glove"
   ]
  },
  {
   "cell_type": "markdown",
   "metadata": {},
   "source": [
    "# Results of GoogleW2V+LSTM model"
   ]
  },
  {
   "cell_type": "code",
   "execution_count": 4,
   "metadata": {},
   "outputs": [
    {
     "data": {
      "text/html": [
       "<div>\n",
       "<style scoped>\n",
       "    .dataframe tbody tr th:only-of-type {\n",
       "        vertical-align: middle;\n",
       "    }\n",
       "\n",
       "    .dataframe tbody tr th {\n",
       "        vertical-align: top;\n",
       "    }\n",
       "\n",
       "    .dataframe thead th {\n",
       "        text-align: right;\n",
       "    }\n",
       "</style>\n",
       "<table border=\"1\" class=\"dataframe\">\n",
       "  <thead>\n",
       "    <tr style=\"text-align: right;\">\n",
       "      <th></th>\n",
       "      <th>Coder</th>\n",
       "      <th>Train_Accuracy</th>\n",
       "      <th>Val_Accuracy</th>\n",
       "      <th>Test_Accuracy</th>\n",
       "      <th>#TestData</th>\n",
       "      <th>#AllData</th>\n",
       "      <th>Classes</th>\n",
       "      <th>Confusion Matrix</th>\n",
       "      <th>Precision</th>\n",
       "      <th>Recall</th>\n",
       "      <th>F1</th>\n",
       "    </tr>\n",
       "  </thead>\n",
       "  <tbody>\n",
       "    <tr>\n",
       "      <th>0</th>\n",
       "      <td>Binary_Classification</td>\n",
       "      <td>0.772321</td>\n",
       "      <td>0.860000</td>\n",
       "      <td>0.691176</td>\n",
       "      <td>136</td>\n",
       "      <td>634</td>\n",
       "      <td>['U', 'N']</td>\n",
       "      <td>[[42 27]\\n [15 52]]</td>\n",
       "      <td>0.658228</td>\n",
       "      <td>0.776119</td>\n",
       "      <td>0.712329</td>\n",
       "    </tr>\n",
       "    <tr>\n",
       "      <th>1</th>\n",
       "      <td>Sally</td>\n",
       "      <td>0.855111</td>\n",
       "      <td>0.840000</td>\n",
       "      <td>0.626866</td>\n",
       "      <td>67</td>\n",
       "      <td>317</td>\n",
       "      <td>['H', 'P', 'D', 'T', 'O']</td>\n",
       "      <td>[[ 0  0  0  0  3]\\n [ 0  0  0  0  5]\\n [ 0  0 ...</td>\n",
       "      <td>NaN</td>\n",
       "      <td>NaN</td>\n",
       "      <td>NaN</td>\n",
       "    </tr>\n",
       "    <tr>\n",
       "      <th>2</th>\n",
       "      <td>Trixy</td>\n",
       "      <td>0.848302</td>\n",
       "      <td>0.833333</td>\n",
       "      <td>0.440000</td>\n",
       "      <td>100</td>\n",
       "      <td>395</td>\n",
       "      <td>['T', 'H', 'P', 'D', 'O']</td>\n",
       "      <td>[[ 4  0  4  0 18]\\n [ 2  0  2  0  5]\\n [ 1  0 ...</td>\n",
       "      <td>NaN</td>\n",
       "      <td>NaN</td>\n",
       "      <td>NaN</td>\n",
       "    </tr>\n",
       "    <tr>\n",
       "      <th>3</th>\n",
       "      <td>Frenard</td>\n",
       "      <td>0.904207</td>\n",
       "      <td>0.828571</td>\n",
       "      <td>0.376812</td>\n",
       "      <td>69</td>\n",
       "      <td>413</td>\n",
       "      <td>['O', 'P', 'T', 'H', 'D']</td>\n",
       "      <td>[[18  7  0  0  0]\\n [12  8  0  0  0]\\n [10  7 ...</td>\n",
       "      <td>NaN</td>\n",
       "      <td>NaN</td>\n",
       "      <td>NaN</td>\n",
       "    </tr>\n",
       "    <tr>\n",
       "      <th>4</th>\n",
       "      <td>Sally_Trixy_Agree</td>\n",
       "      <td>0.950943</td>\n",
       "      <td>0.883333</td>\n",
       "      <td>0.538462</td>\n",
       "      <td>26</td>\n",
       "      <td>144</td>\n",
       "      <td>['P', 'T', 'D', 'O', 'H']</td>\n",
       "      <td>[[ 0  0  0  2  0]\\n [ 0  1  0  4  0]\\n [ 0  0 ...</td>\n",
       "      <td>NaN</td>\n",
       "      <td>NaN</td>\n",
       "      <td>NaN</td>\n",
       "    </tr>\n",
       "    <tr>\n",
       "      <th>5</th>\n",
       "      <td>Sally_Frenard_Agree</td>\n",
       "      <td>0.954717</td>\n",
       "      <td>0.766667</td>\n",
       "      <td>0.727273</td>\n",
       "      <td>11</td>\n",
       "      <td>70</td>\n",
       "      <td>['O', 'H', 'D']</td>\n",
       "      <td>[[8 0 0]\\n [1 0 0]\\n [2 0 0]]</td>\n",
       "      <td>NaN</td>\n",
       "      <td>NaN</td>\n",
       "      <td>NaN</td>\n",
       "    </tr>\n",
       "    <tr>\n",
       "      <th>6</th>\n",
       "      <td>Sally_Trixy_DisAgree</td>\n",
       "      <td>1.000000</td>\n",
       "      <td>0.714286</td>\n",
       "      <td>0.611111</td>\n",
       "      <td>18</td>\n",
       "      <td>84</td>\n",
       "      <td>['T', 'O']</td>\n",
       "      <td>[[3 3]\\n [4 8]]</td>\n",
       "      <td>NaN</td>\n",
       "      <td>NaN</td>\n",
       "      <td>NaN</td>\n",
       "    </tr>\n",
       "    <tr>\n",
       "      <th>7</th>\n",
       "      <td>Sally_Frenard_DisAgree</td>\n",
       "      <td>0.958333</td>\n",
       "      <td>0.950000</td>\n",
       "      <td>0.866667</td>\n",
       "      <td>15</td>\n",
       "      <td>62</td>\n",
       "      <td>['T', 'O']</td>\n",
       "      <td>[[ 0  2]\\n [ 0 13]]</td>\n",
       "      <td>NaN</td>\n",
       "      <td>NaN</td>\n",
       "      <td>NaN</td>\n",
       "    </tr>\n",
       "    <tr>\n",
       "      <th>8</th>\n",
       "      <td>Trixy_Sally_DisAgree</td>\n",
       "      <td>0.934043</td>\n",
       "      <td>0.800000</td>\n",
       "      <td>0.655172</td>\n",
       "      <td>29</td>\n",
       "      <td>134</td>\n",
       "      <td>['H', 'T', 'D', 'P', 'O']</td>\n",
       "      <td>[[ 0  0  0  1  0]\\n [ 0  4  0  3  0]\\n [ 0  1 ...</td>\n",
       "      <td>NaN</td>\n",
       "      <td>NaN</td>\n",
       "      <td>NaN</td>\n",
       "    </tr>\n",
       "    <tr>\n",
       "      <th>9</th>\n",
       "      <td>Frenard_Sally_DisAgree</td>\n",
       "      <td>0.894737</td>\n",
       "      <td>0.836364</td>\n",
       "      <td>0.296296</td>\n",
       "      <td>27</td>\n",
       "      <td>133</td>\n",
       "      <td>['O', 'P', 'D', 'T']</td>\n",
       "      <td>[[5 6 0 2]\\n [0 3 0 3]\\n [1 2 0 0]\\n [0 5 0 0]]</td>\n",
       "      <td>NaN</td>\n",
       "      <td>NaN</td>\n",
       "      <td>NaN</td>\n",
       "    </tr>\n",
       "  </tbody>\n",
       "</table>\n",
       "</div>"
      ],
      "text/plain": [
       "                    Coder  Train_Accuracy  Val_Accuracy  Test_Accuracy  \\\n",
       "0   Binary_Classification        0.772321      0.860000       0.691176   \n",
       "1                   Sally        0.855111      0.840000       0.626866   \n",
       "2                   Trixy        0.848302      0.833333       0.440000   \n",
       "3                 Frenard        0.904207      0.828571       0.376812   \n",
       "4       Sally_Trixy_Agree        0.950943      0.883333       0.538462   \n",
       "5     Sally_Frenard_Agree        0.954717      0.766667       0.727273   \n",
       "6    Sally_Trixy_DisAgree        1.000000      0.714286       0.611111   \n",
       "7  Sally_Frenard_DisAgree        0.958333      0.950000       0.866667   \n",
       "8    Trixy_Sally_DisAgree        0.934043      0.800000       0.655172   \n",
       "9  Frenard_Sally_DisAgree        0.894737      0.836364       0.296296   \n",
       "\n",
       "   #TestData  #AllData                    Classes  \\\n",
       "0        136       634                 ['U', 'N']   \n",
       "1         67       317  ['H', 'P', 'D', 'T', 'O']   \n",
       "2        100       395  ['T', 'H', 'P', 'D', 'O']   \n",
       "3         69       413  ['O', 'P', 'T', 'H', 'D']   \n",
       "4         26       144  ['P', 'T', 'D', 'O', 'H']   \n",
       "5         11        70            ['O', 'H', 'D']   \n",
       "6         18        84                 ['T', 'O']   \n",
       "7         15        62                 ['T', 'O']   \n",
       "8         29       134  ['H', 'T', 'D', 'P', 'O']   \n",
       "9         27       133       ['O', 'P', 'D', 'T']   \n",
       "\n",
       "                                    Confusion Matrix  Precision    Recall  \\\n",
       "0                                [[42 27]\\n [15 52]]   0.658228  0.776119   \n",
       "1  [[ 0  0  0  0  3]\\n [ 0  0  0  0  5]\\n [ 0  0 ...        NaN       NaN   \n",
       "2  [[ 4  0  4  0 18]\\n [ 2  0  2  0  5]\\n [ 1  0 ...        NaN       NaN   \n",
       "3  [[18  7  0  0  0]\\n [12  8  0  0  0]\\n [10  7 ...        NaN       NaN   \n",
       "4  [[ 0  0  0  2  0]\\n [ 0  1  0  4  0]\\n [ 0  0 ...        NaN       NaN   \n",
       "5                      [[8 0 0]\\n [1 0 0]\\n [2 0 0]]        NaN       NaN   \n",
       "6                                    [[3 3]\\n [4 8]]        NaN       NaN   \n",
       "7                                [[ 0  2]\\n [ 0 13]]        NaN       NaN   \n",
       "8  [[ 0  0  0  1  0]\\n [ 0  4  0  3  0]\\n [ 0  1 ...        NaN       NaN   \n",
       "9    [[5 6 0 2]\\n [0 3 0 3]\\n [1 2 0 0]\\n [0 5 0 0]]        NaN       NaN   \n",
       "\n",
       "         F1  \n",
       "0  0.712329  \n",
       "1       NaN  \n",
       "2       NaN  \n",
       "3       NaN  \n",
       "4       NaN  \n",
       "5       NaN  \n",
       "6       NaN  \n",
       "7       NaN  \n",
       "8       NaN  \n",
       "9       NaN  "
      ]
     },
     "execution_count": 4,
     "metadata": {},
     "output_type": "execute_result"
    }
   ],
   "source": [
    "df_google_w2v"
   ]
  },
  {
   "cell_type": "markdown",
   "metadata": {},
   "source": [
    "# Results of TrainedW2V+LSTM model"
   ]
  },
  {
   "cell_type": "code",
   "execution_count": 5,
   "metadata": {},
   "outputs": [
    {
     "data": {
      "text/html": [
       "<div>\n",
       "<style scoped>\n",
       "    .dataframe tbody tr th:only-of-type {\n",
       "        vertical-align: middle;\n",
       "    }\n",
       "\n",
       "    .dataframe tbody tr th {\n",
       "        vertical-align: top;\n",
       "    }\n",
       "\n",
       "    .dataframe thead th {\n",
       "        text-align: right;\n",
       "    }\n",
       "</style>\n",
       "<table border=\"1\" class=\"dataframe\">\n",
       "  <thead>\n",
       "    <tr style=\"text-align: right;\">\n",
       "      <th></th>\n",
       "      <th>Coder</th>\n",
       "      <th>Train_Accuracy</th>\n",
       "      <th>Val_Accuracy</th>\n",
       "      <th>Test_Accuracy</th>\n",
       "      <th>#TestData</th>\n",
       "      <th>#AllData</th>\n",
       "      <th>Classes</th>\n",
       "      <th>Confusion Matrix</th>\n",
       "      <th>Precision</th>\n",
       "      <th>Recall</th>\n",
       "      <th>F1</th>\n",
       "    </tr>\n",
       "  </thead>\n",
       "  <tbody>\n",
       "    <tr>\n",
       "      <th>0</th>\n",
       "      <td>Binary_Classification</td>\n",
       "      <td>0.790466</td>\n",
       "      <td>0.852941</td>\n",
       "      <td>0.643939</td>\n",
       "      <td>132</td>\n",
       "      <td>634</td>\n",
       "      <td>['N', 'U']</td>\n",
       "      <td>[[46 17]\\n [30 39]]</td>\n",
       "      <td>0.605263</td>\n",
       "      <td>0.730159</td>\n",
       "      <td>0.661871</td>\n",
       "    </tr>\n",
       "    <tr>\n",
       "      <th>1</th>\n",
       "      <td>Sally</td>\n",
       "      <td>0.946226</td>\n",
       "      <td>0.850000</td>\n",
       "      <td>0.604938</td>\n",
       "      <td>81</td>\n",
       "      <td>317</td>\n",
       "      <td>['P', 'T', 'H', 'O']</td>\n",
       "      <td>[[ 0  4  0  4]\\n [ 0  3  0  9]\\n [ 0  7  0  0]...</td>\n",
       "      <td>NaN</td>\n",
       "      <td>NaN</td>\n",
       "      <td>NaN</td>\n",
       "    </tr>\n",
       "    <tr>\n",
       "      <th>2</th>\n",
       "      <td>Trixy</td>\n",
       "      <td>0.888571</td>\n",
       "      <td>0.875000</td>\n",
       "      <td>0.530120</td>\n",
       "      <td>83</td>\n",
       "      <td>395</td>\n",
       "      <td>['T', 'H', 'O', 'P', 'D']</td>\n",
       "      <td>[[ 5  0  5  7  0]\\n [ 2  1  1  3  0]\\n [ 1  1 ...</td>\n",
       "      <td>NaN</td>\n",
       "      <td>NaN</td>\n",
       "      <td>NaN</td>\n",
       "    </tr>\n",
       "    <tr>\n",
       "      <th>3</th>\n",
       "      <td>Frenard</td>\n",
       "      <td>0.866894</td>\n",
       "      <td>0.824242</td>\n",
       "      <td>0.448276</td>\n",
       "      <td>87</td>\n",
       "      <td>413</td>\n",
       "      <td>['P', 'H', 'D', 'O', 'T']</td>\n",
       "      <td>[[ 3  0  0 16  2]\\n [ 0  2  0  4  0]\\n [ 1  0 ...</td>\n",
       "      <td>NaN</td>\n",
       "      <td>NaN</td>\n",
       "      <td>NaN</td>\n",
       "    </tr>\n",
       "    <tr>\n",
       "      <th>4</th>\n",
       "      <td>Sally_Trixy_Agree</td>\n",
       "      <td>0.925455</td>\n",
       "      <td>0.769231</td>\n",
       "      <td>0.523810</td>\n",
       "      <td>21</td>\n",
       "      <td>144</td>\n",
       "      <td>['T', 'H', 'P', 'O', 'D']</td>\n",
       "      <td>[[ 1  1  0  6  0]\\n [ 0  0  0  1  0]\\n [ 0  0 ...</td>\n",
       "      <td>NaN</td>\n",
       "      <td>NaN</td>\n",
       "      <td>NaN</td>\n",
       "    </tr>\n",
       "    <tr>\n",
       "      <th>5</th>\n",
       "      <td>Sally_Frenard_Agree</td>\n",
       "      <td>0.938776</td>\n",
       "      <td>0.866667</td>\n",
       "      <td>0.666667</td>\n",
       "      <td>15</td>\n",
       "      <td>70</td>\n",
       "      <td>['P', 'O', 'D', 'T']</td>\n",
       "      <td>[[ 0  2  0  0]\\n [ 0 10  0  0]\\n [ 0  2  0  0]...</td>\n",
       "      <td>NaN</td>\n",
       "      <td>NaN</td>\n",
       "      <td>NaN</td>\n",
       "    </tr>\n",
       "    <tr>\n",
       "      <th>6</th>\n",
       "      <td>Sally_Trixy_DisAgree</td>\n",
       "      <td>0.989071</td>\n",
       "      <td>0.809524</td>\n",
       "      <td>0.937500</td>\n",
       "      <td>16</td>\n",
       "      <td>84</td>\n",
       "      <td>['T', 'O']</td>\n",
       "      <td>[[ 2  0]\\n [ 1 13]]</td>\n",
       "      <td>NaN</td>\n",
       "      <td>NaN</td>\n",
       "      <td>NaN</td>\n",
       "    </tr>\n",
       "    <tr>\n",
       "      <th>7</th>\n",
       "      <td>Sally_Frenard_DisAgree</td>\n",
       "      <td>0.988889</td>\n",
       "      <td>0.800000</td>\n",
       "      <td>0.750000</td>\n",
       "      <td>12</td>\n",
       "      <td>62</td>\n",
       "      <td>['T', 'O']</td>\n",
       "      <td>[[0 3]\\n [0 9]]</td>\n",
       "      <td>NaN</td>\n",
       "      <td>NaN</td>\n",
       "      <td>NaN</td>\n",
       "    </tr>\n",
       "    <tr>\n",
       "      <th>8</th>\n",
       "      <td>Trixy_Sally_DisAgree</td>\n",
       "      <td>0.954000</td>\n",
       "      <td>0.833333</td>\n",
       "      <td>0.409091</td>\n",
       "      <td>22</td>\n",
       "      <td>134</td>\n",
       "      <td>['D', 'O', 'T', 'H', 'P']</td>\n",
       "      <td>[[0 0 1 0 4]\\n [0 5 0 0 2]\\n [0 1 1 0 2]\\n [0 ...</td>\n",
       "      <td>NaN</td>\n",
       "      <td>NaN</td>\n",
       "      <td>NaN</td>\n",
       "    </tr>\n",
       "    <tr>\n",
       "      <th>9</th>\n",
       "      <td>Frenard_Sally_DisAgree</td>\n",
       "      <td>0.943158</td>\n",
       "      <td>0.800000</td>\n",
       "      <td>0.185185</td>\n",
       "      <td>27</td>\n",
       "      <td>133</td>\n",
       "      <td>['P', 'D', 'H', 'T', 'O']</td>\n",
       "      <td>[[0 0 0 0 1]\\n [2 0 0 0 3]\\n [1 0 0 0 0]\\n [3 ...</td>\n",
       "      <td>NaN</td>\n",
       "      <td>NaN</td>\n",
       "      <td>NaN</td>\n",
       "    </tr>\n",
       "  </tbody>\n",
       "</table>\n",
       "</div>"
      ],
      "text/plain": [
       "                    Coder  Train_Accuracy  Val_Accuracy  Test_Accuracy  \\\n",
       "0   Binary_Classification        0.790466      0.852941       0.643939   \n",
       "1                   Sally        0.946226      0.850000       0.604938   \n",
       "2                   Trixy        0.888571      0.875000       0.530120   \n",
       "3                 Frenard        0.866894      0.824242       0.448276   \n",
       "4       Sally_Trixy_Agree        0.925455      0.769231       0.523810   \n",
       "5     Sally_Frenard_Agree        0.938776      0.866667       0.666667   \n",
       "6    Sally_Trixy_DisAgree        0.989071      0.809524       0.937500   \n",
       "7  Sally_Frenard_DisAgree        0.988889      0.800000       0.750000   \n",
       "8    Trixy_Sally_DisAgree        0.954000      0.833333       0.409091   \n",
       "9  Frenard_Sally_DisAgree        0.943158      0.800000       0.185185   \n",
       "\n",
       "   #TestData  #AllData                    Classes  \\\n",
       "0        132       634                 ['N', 'U']   \n",
       "1         81       317       ['P', 'T', 'H', 'O']   \n",
       "2         83       395  ['T', 'H', 'O', 'P', 'D']   \n",
       "3         87       413  ['P', 'H', 'D', 'O', 'T']   \n",
       "4         21       144  ['T', 'H', 'P', 'O', 'D']   \n",
       "5         15        70       ['P', 'O', 'D', 'T']   \n",
       "6         16        84                 ['T', 'O']   \n",
       "7         12        62                 ['T', 'O']   \n",
       "8         22       134  ['D', 'O', 'T', 'H', 'P']   \n",
       "9         27       133  ['P', 'D', 'H', 'T', 'O']   \n",
       "\n",
       "                                    Confusion Matrix  Precision    Recall  \\\n",
       "0                                [[46 17]\\n [30 39]]   0.605263  0.730159   \n",
       "1  [[ 0  4  0  4]\\n [ 0  3  0  9]\\n [ 0  7  0  0]...        NaN       NaN   \n",
       "2  [[ 5  0  5  7  0]\\n [ 2  1  1  3  0]\\n [ 1  1 ...        NaN       NaN   \n",
       "3  [[ 3  0  0 16  2]\\n [ 0  2  0  4  0]\\n [ 1  0 ...        NaN       NaN   \n",
       "4  [[ 1  1  0  6  0]\\n [ 0  0  0  1  0]\\n [ 0  0 ...        NaN       NaN   \n",
       "5  [[ 0  2  0  0]\\n [ 0 10  0  0]\\n [ 0  2  0  0]...        NaN       NaN   \n",
       "6                                [[ 2  0]\\n [ 1 13]]        NaN       NaN   \n",
       "7                                    [[0 3]\\n [0 9]]        NaN       NaN   \n",
       "8  [[0 0 1 0 4]\\n [0 5 0 0 2]\\n [0 1 1 0 2]\\n [0 ...        NaN       NaN   \n",
       "9  [[0 0 0 0 1]\\n [2 0 0 0 3]\\n [1 0 0 0 0]\\n [3 ...        NaN       NaN   \n",
       "\n",
       "         F1  \n",
       "0  0.661871  \n",
       "1       NaN  \n",
       "2       NaN  \n",
       "3       NaN  \n",
       "4       NaN  \n",
       "5       NaN  \n",
       "6       NaN  \n",
       "7       NaN  \n",
       "8       NaN  \n",
       "9       NaN  "
      ]
     },
     "execution_count": 5,
     "metadata": {},
     "output_type": "execute_result"
    }
   ],
   "source": [
    "df_trained_w2v"
   ]
  },
  {
   "cell_type": "code",
   "execution_count": 6,
   "metadata": {},
   "outputs": [],
   "source": [
    "list_models = ['Glove', 'Google_W2V', 'Trained_W2V']"
   ]
  },
  {
   "cell_type": "markdown",
   "metadata": {},
   "source": [
    "# Results of Binary Classification"
   ]
  },
  {
   "cell_type": "markdown",
   "metadata": {},
   "source": [
    "### For Binary Classification, we are classifying sentences as Useless (U) and Usefull or Non-Useless (N). We have considered Sally's 317 Usefull sentences and have taken an equal no. of 317 Useless sentences as the Dataset."
   ]
  },
  {
   "cell_type": "code",
   "execution_count": 7,
   "metadata": {},
   "outputs": [
    {
     "data": {
      "text/html": [
       "<div>\n",
       "<style scoped>\n",
       "    .dataframe tbody tr th:only-of-type {\n",
       "        vertical-align: middle;\n",
       "    }\n",
       "\n",
       "    .dataframe tbody tr th {\n",
       "        vertical-align: top;\n",
       "    }\n",
       "\n",
       "    .dataframe thead th {\n",
       "        text-align: right;\n",
       "    }\n",
       "</style>\n",
       "<table border=\"1\" class=\"dataframe\">\n",
       "  <thead>\n",
       "    <tr style=\"text-align: right;\">\n",
       "      <th></th>\n",
       "      <th>Models</th>\n",
       "      <th>Train_Accuracy</th>\n",
       "      <th>Val_Accuracy</th>\n",
       "      <th>Test_Accuracy</th>\n",
       "      <th>#TestData</th>\n",
       "      <th>#AllData</th>\n",
       "      <th>Classes</th>\n",
       "      <th>Confusion Matrix</th>\n",
       "      <th>Precision</th>\n",
       "      <th>Recall</th>\n",
       "      <th>F1</th>\n",
       "    </tr>\n",
       "  </thead>\n",
       "  <tbody>\n",
       "    <tr>\n",
       "      <th>0</th>\n",
       "      <td>Glove</td>\n",
       "      <td>0.706972</td>\n",
       "      <td>0.894231</td>\n",
       "      <td>0.682927</td>\n",
       "      <td>123</td>\n",
       "      <td>634</td>\n",
       "      <td>['N', 'U']</td>\n",
       "      <td>[[51  7]\\n [32 33]]</td>\n",
       "      <td>0.614458</td>\n",
       "      <td>0.879310</td>\n",
       "      <td>0.723404</td>\n",
       "    </tr>\n",
       "    <tr>\n",
       "      <th>0</th>\n",
       "      <td>Google_W2V</td>\n",
       "      <td>0.772321</td>\n",
       "      <td>0.860000</td>\n",
       "      <td>0.691176</td>\n",
       "      <td>136</td>\n",
       "      <td>634</td>\n",
       "      <td>['U', 'N']</td>\n",
       "      <td>[[42 27]\\n [15 52]]</td>\n",
       "      <td>0.658228</td>\n",
       "      <td>0.776119</td>\n",
       "      <td>0.712329</td>\n",
       "    </tr>\n",
       "    <tr>\n",
       "      <th>0</th>\n",
       "      <td>Trained_W2V</td>\n",
       "      <td>0.790466</td>\n",
       "      <td>0.852941</td>\n",
       "      <td>0.643939</td>\n",
       "      <td>132</td>\n",
       "      <td>634</td>\n",
       "      <td>['N', 'U']</td>\n",
       "      <td>[[46 17]\\n [30 39]]</td>\n",
       "      <td>0.605263</td>\n",
       "      <td>0.730159</td>\n",
       "      <td>0.661871</td>\n",
       "    </tr>\n",
       "  </tbody>\n",
       "</table>\n",
       "</div>"
      ],
      "text/plain": [
       "        Models  Train_Accuracy  Val_Accuracy  Test_Accuracy  #TestData  \\\n",
       "0        Glove        0.706972      0.894231       0.682927        123   \n",
       "0   Google_W2V        0.772321      0.860000       0.691176        136   \n",
       "0  Trained_W2V        0.790466      0.852941       0.643939        132   \n",
       "\n",
       "   #AllData     Classes     Confusion Matrix  Precision    Recall        F1  \n",
       "0       634  ['N', 'U']  [[51  7]\\n [32 33]]   0.614458  0.879310  0.723404  \n",
       "0       634  ['U', 'N']  [[42 27]\\n [15 52]]   0.658228  0.776119  0.712329  \n",
       "0       634  ['N', 'U']  [[46 17]\\n [30 39]]   0.605263  0.730159  0.661871  "
      ]
     },
     "execution_count": 7,
     "metadata": {},
     "output_type": "execute_result"
    }
   ],
   "source": [
    "df_binary = pd.DataFrame()\n",
    "df_binary = pd.concat([df_binary,df_glove.iloc[:1]])\n",
    "df_binary = pd.concat([df_binary,df_google_w2v.iloc[:1]])\n",
    "df_binary = pd.concat([df_binary,df_trained_w2v.iloc[:1]])\n",
    "df_binary['Coder'] = list_models\n",
    "df_binary.rename(columns = {'Coder':'Models'}, inplace = True) \n",
    "df_binary"
   ]
  },
  {
   "cell_type": "code",
   "execution_count": 8,
   "metadata": {
    "scrolled": true
   },
   "outputs": [
    {
     "data": {
      "image/png": "[encoded data removed]",
      "text/plain": [
       "<Figure size 432x288 with 2 Axes>"
      ]
     },
     "metadata": {
      "needs_background": "light"
     },
     "output_type": "display_data"
    },
    {
     "data": {
      "image/png": "[encoded data removed]",
      "text/plain": [
       "<Figure size 432x288 with 2 Axes>"
      ]
     },
     "metadata": {
      "needs_background": "light"
     },
     "output_type": "display_data"
    },
    {
     "data": {
      "image/png": "[encoded data removed]",
      "text/plain": [
       "<Figure size 432x288 with 2 Axes>"
      ]
     },
     "metadata": {
      "needs_background": "light"
     },
     "output_type": "display_data"
    }
   ],
   "source": [
    "# Confusion Matrix Plot for GloVe\n",
    "plt.figure(1)\n",
    "df_cm = pd.read_csv(\"GloVe/Binary_Classification.csv\")\n",
    "labels = list(set(df_cm['Y']))\n",
    "cm = confusion_matrix(df_cm['Y'], df_cm['Predicted_Values'], labels)\n",
    "\n",
    "ax= plt.subplot()\n",
    "sns.heatmap(cm, annot=True, ax = ax); #annot=True to annotate cells\n",
    "ax.set_xlabel('Predicted labels');ax.set_ylabel('True labels'); \n",
    "ax.set_title('GloVe - Confusion Matrix'); \n",
    "ax.xaxis.set_ticklabels(labels); ax.yaxis.set_ticklabels(labels);\n",
    "\n",
    "# Confusion Matrix Plot for GoogleW2V\n",
    "plt.figure(2)\n",
    "df_cm = pd.read_csv(\"GoogleW2V/Binary_Classification.csv\")\n",
    "labels = list(set(df_cm['Y']))\n",
    "cm = confusion_matrix(df_cm['Y'], df_cm['Predicted_Values'], labels)\n",
    "\n",
    "ax= plt.subplot()\n",
    "sns.heatmap(cm, annot=True, ax = ax); #annot=True to annotate cells\n",
    "ax.set_xlabel('Predicted labels');ax.set_ylabel('True labels'); \n",
    "ax.set_title('GoogleW2V - Confusion Matrix'); \n",
    "ax.xaxis.set_ticklabels(labels); ax.yaxis.set_ticklabels(labels);\n",
    "\n",
    "# Confusion Matrix Plot for TrainedW2V\n",
    "plt.figure(3)\n",
    "df_cm = pd.read_csv(\"TrainedW2V/Binary_Classification.csv\")\n",
    "labels = list(set(df_cm['Y']))\n",
    "cm = confusion_matrix(df_cm['Y'], df_cm['Predicted_Values'], labels)\n",
    "\n",
    "ax= plt.subplot()\n",
    "sns.heatmap(cm, annot=True, ax = ax); #annot=True to annotate cells\n",
    "ax.set_xlabel('Predicted labels');ax.set_ylabel('True labels'); \n",
    "ax.set_title('TrainedW2V - Confusion Matrix'); \n",
    "ax.xaxis.set_ticklabels(labels); ax.yaxis.set_ticklabels(labels);\n",
    "\n",
    "plt.show()"
   ]
  },
  {
   "cell_type": "markdown",
   "metadata": {},
   "source": [
    "# Results of Sentence Classification"
   ]
  },
  {
   "cell_type": "markdown",
   "metadata": {},
   "source": [
    "## 1. Sally"
   ]
  },
  {
   "cell_type": "markdown",
   "metadata": {},
   "source": [
    "### In this case, we have taken all the usefull sentences labelled by Sally."
   ]
  },
  {
   "cell_type": "code",
   "execution_count": 9,
   "metadata": {},
   "outputs": [
    {
     "data": {
      "text/html": [
       "<div>\n",
       "<style scoped>\n",
       "    .dataframe tbody tr th:only-of-type {\n",
       "        vertical-align: middle;\n",
       "    }\n",
       "\n",
       "    .dataframe tbody tr th {\n",
       "        vertical-align: top;\n",
       "    }\n",
       "\n",
       "    .dataframe thead th {\n",
       "        text-align: right;\n",
       "    }\n",
       "</style>\n",
       "<table border=\"1\" class=\"dataframe\">\n",
       "  <thead>\n",
       "    <tr style=\"text-align: right;\">\n",
       "      <th></th>\n",
       "      <th>Models</th>\n",
       "      <th>Train_Accuracy</th>\n",
       "      <th>Val_Accuracy</th>\n",
       "      <th>Test_Accuracy</th>\n",
       "      <th>#TestData</th>\n",
       "      <th>#AllData</th>\n",
       "      <th>Classes</th>\n",
       "      <th>Confusion Matrix</th>\n",
       "    </tr>\n",
       "  </thead>\n",
       "  <tbody>\n",
       "    <tr>\n",
       "      <th>1</th>\n",
       "      <td>Glove</td>\n",
       "      <td>0.890370</td>\n",
       "      <td>0.910256</td>\n",
       "      <td>0.621212</td>\n",
       "      <td>66</td>\n",
       "      <td>317</td>\n",
       "      <td>['O', 'P', 'H', 'T', 'D']</td>\n",
       "      <td>[[41  0  0  0  0]\\n [ 7  0  0  0  0]\\n [ 2  0 ...</td>\n",
       "    </tr>\n",
       "    <tr>\n",
       "      <th>1</th>\n",
       "      <td>Google_W2V</td>\n",
       "      <td>0.855111</td>\n",
       "      <td>0.840000</td>\n",
       "      <td>0.626866</td>\n",
       "      <td>67</td>\n",
       "      <td>317</td>\n",
       "      <td>['H', 'P', 'D', 'T', 'O']</td>\n",
       "      <td>[[ 0  0  0  0  3]\\n [ 0  0  0  0  5]\\n [ 0  0 ...</td>\n",
       "    </tr>\n",
       "    <tr>\n",
       "      <th>1</th>\n",
       "      <td>Trained_W2V</td>\n",
       "      <td>0.946226</td>\n",
       "      <td>0.850000</td>\n",
       "      <td>0.604938</td>\n",
       "      <td>81</td>\n",
       "      <td>317</td>\n",
       "      <td>['P', 'T', 'H', 'O']</td>\n",
       "      <td>[[ 0  4  0  4]\\n [ 0  3  0  9]\\n [ 0  7  0  0]...</td>\n",
       "    </tr>\n",
       "  </tbody>\n",
       "</table>\n",
       "</div>"
      ],
      "text/plain": [
       "        Models  Train_Accuracy  Val_Accuracy  Test_Accuracy  #TestData  \\\n",
       "1        Glove        0.890370      0.910256       0.621212         66   \n",
       "1   Google_W2V        0.855111      0.840000       0.626866         67   \n",
       "1  Trained_W2V        0.946226      0.850000       0.604938         81   \n",
       "\n",
       "   #AllData                    Classes  \\\n",
       "1       317  ['O', 'P', 'H', 'T', 'D']   \n",
       "1       317  ['H', 'P', 'D', 'T', 'O']   \n",
       "1       317       ['P', 'T', 'H', 'O']   \n",
       "\n",
       "                                    Confusion Matrix  \n",
       "1  [[41  0  0  0  0]\\n [ 7  0  0  0  0]\\n [ 2  0 ...  \n",
       "1  [[ 0  0  0  0  3]\\n [ 0  0  0  0  5]\\n [ 0  0 ...  \n",
       "1  [[ 0  4  0  4]\\n [ 0  3  0  9]\\n [ 0  7  0  0]...  "
      ]
     },
     "execution_count": 9,
     "metadata": {},
     "output_type": "execute_result"
    }
   ],
   "source": [
    "df_sally = pd.DataFrame()\n",
    "df_sally = pd.concat([df_sally,df_glove.iloc[1:2,:8]])\n",
    "df_sally = pd.concat([df_sally,df_google_w2v.iloc[1:2,:8]])\n",
    "df_sally = pd.concat([df_sally,df_trained_w2v.iloc[1:2,:8]])\n",
    "df_sally['Coder'] = list_models\n",
    "df_sally.rename(columns = {'Coder':'Models'}, inplace = True) \n",
    "df_sally"
   ]
  },
  {
   "cell_type": "code",
   "execution_count": 10,
   "metadata": {},
   "outputs": [
    {
     "data": {
      "image/png": "[encoded data removed]",
      "text/plain": [
       "<Figure size 432x288 with 2 Axes>"
      ]
     },
     "metadata": {
      "needs_background": "light"
     },
     "output_type": "display_data"
    },
    {
     "data": {
      "image/png": "[encoded data removed]",
      "text/plain": [
       "<Figure size 432x288 with 2 Axes>"
      ]
     },
     "metadata": {
      "needs_background": "light"
     },
     "output_type": "display_data"
    },
    {
     "data": {
      "image/png": "[encoded data removed]",
      "text/plain": [
       "<Figure size 432x288 with 2 Axes>"
      ]
     },
     "metadata": {
      "needs_background": "light"
     },
     "output_type": "display_data"
    }
   ],
   "source": [
    "# Confusion Matrix Plot for GloVe\n",
    "plt.figure(1)\n",
    "df_cm = pd.read_csv(\"GloVe/Sally.csv\")\n",
    "labels = list(set(df_cm['Y']))\n",
    "cm = confusion_matrix(df_cm['Y'], df_cm['Predicted_Values'], labels)\n",
    "\n",
    "ax= plt.subplot()\n",
    "sns.heatmap(cm, annot=True, ax = ax); #annot=True to annotate cells\n",
    "ax.set_xlabel('Predicted labels');ax.set_ylabel('True labels'); \n",
    "ax.set_title('GloVe - Confusion Matrix'); \n",
    "ax.xaxis.set_ticklabels(labels); ax.yaxis.set_ticklabels(labels);\n",
    "\n",
    "# Confusion Matrix Plot for GoogleW2V\n",
    "plt.figure(2)\n",
    "df_cm = pd.read_csv(\"GoogleW2V/Sally.csv\")\n",
    "labels = list(set(df_cm['Y']))\n",
    "cm = confusion_matrix(df_cm['Y'], df_cm['Predicted_Values'], labels)\n",
    "\n",
    "ax= plt.subplot()\n",
    "sns.heatmap(cm, annot=True, ax = ax); #annot=True to annotate cells\n",
    "ax.set_xlabel('Predicted labels');ax.set_ylabel('True labels'); \n",
    "ax.set_title('GoogleW2V - Confusion Matrix'); \n",
    "ax.xaxis.set_ticklabels(labels); ax.yaxis.set_ticklabels(labels);\n",
    "\n",
    "# Confusion Matrix Plot for TrainedW2V\n",
    "plt.figure(3)\n",
    "df_cm = pd.read_csv(\"TrainedW2V/Sally.csv\")\n",
    "labels = list(set(df_cm['Y']))\n",
    "cm = confusion_matrix(df_cm['Y'], df_cm['Predicted_Values'], labels)\n",
    "\n",
    "ax= plt.subplot()\n",
    "sns.heatmap(cm, annot=True, ax = ax); #annot=True to annotate cells\n",
    "ax.set_xlabel('Predicted labels');ax.set_ylabel('True labels'); \n",
    "ax.set_title('TrainedW2V - Confusion Matrix'); \n",
    "ax.xaxis.set_ticklabels(labels); ax.yaxis.set_ticklabels(labels);\n",
    "\n",
    "plt.show()"
   ]
  },
  {
   "cell_type": "markdown",
   "metadata": {},
   "source": [
    "## 2. Trixy"
   ]
  },
  {
   "cell_type": "markdown",
   "metadata": {},
   "source": [
    "### In this case, we have taken all the usefull sentences labelled by Trixy."
   ]
  },
  {
   "cell_type": "code",
   "execution_count": 11,
   "metadata": {},
   "outputs": [
    {
     "data": {
      "text/html": [
       "<div>\n",
       "<style scoped>\n",
       "    .dataframe tbody tr th:only-of-type {\n",
       "        vertical-align: middle;\n",
       "    }\n",
       "\n",
       "    .dataframe tbody tr th {\n",
       "        vertical-align: top;\n",
       "    }\n",
       "\n",
       "    .dataframe thead th {\n",
       "        text-align: right;\n",
       "    }\n",
       "</style>\n",
       "<table border=\"1\" class=\"dataframe\">\n",
       "  <thead>\n",
       "    <tr style=\"text-align: right;\">\n",
       "      <th></th>\n",
       "      <th>Models</th>\n",
       "      <th>Train_Accuracy</th>\n",
       "      <th>Val_Accuracy</th>\n",
       "      <th>Test_Accuracy</th>\n",
       "      <th>#TestData</th>\n",
       "      <th>#AllData</th>\n",
       "      <th>Classes</th>\n",
       "      <th>Confusion Matrix</th>\n",
       "    </tr>\n",
       "  </thead>\n",
       "  <tbody>\n",
       "    <tr>\n",
       "      <th>2</th>\n",
       "      <td>Glove</td>\n",
       "      <td>0.808934</td>\n",
       "      <td>0.800000</td>\n",
       "      <td>0.464789</td>\n",
       "      <td>71</td>\n",
       "      <td>395</td>\n",
       "      <td>['P', 'D', 'T', 'O', 'H']</td>\n",
       "      <td>[[12  0  0  6  0]\\n [ 2  0  0  0  0]\\n [ 7  0 ...</td>\n",
       "    </tr>\n",
       "    <tr>\n",
       "      <th>2</th>\n",
       "      <td>Google_W2V</td>\n",
       "      <td>0.848302</td>\n",
       "      <td>0.833333</td>\n",
       "      <td>0.440000</td>\n",
       "      <td>100</td>\n",
       "      <td>395</td>\n",
       "      <td>['T', 'H', 'P', 'D', 'O']</td>\n",
       "      <td>[[ 4  0  4  0 18]\\n [ 2  0  2  0  5]\\n [ 1  0 ...</td>\n",
       "    </tr>\n",
       "    <tr>\n",
       "      <th>2</th>\n",
       "      <td>Trained_W2V</td>\n",
       "      <td>0.888571</td>\n",
       "      <td>0.875000</td>\n",
       "      <td>0.530120</td>\n",
       "      <td>83</td>\n",
       "      <td>395</td>\n",
       "      <td>['T', 'H', 'O', 'P', 'D']</td>\n",
       "      <td>[[ 5  0  5  7  0]\\n [ 2  1  1  3  0]\\n [ 1  1 ...</td>\n",
       "    </tr>\n",
       "  </tbody>\n",
       "</table>\n",
       "</div>"
      ],
      "text/plain": [
       "        Models  Train_Accuracy  Val_Accuracy  Test_Accuracy  #TestData  \\\n",
       "2        Glove        0.808934      0.800000       0.464789         71   \n",
       "2   Google_W2V        0.848302      0.833333       0.440000        100   \n",
       "2  Trained_W2V        0.888571      0.875000       0.530120         83   \n",
       "\n",
       "   #AllData                    Classes  \\\n",
       "2       395  ['P', 'D', 'T', 'O', 'H']   \n",
       "2       395  ['T', 'H', 'P', 'D', 'O']   \n",
       "2       395  ['T', 'H', 'O', 'P', 'D']   \n",
       "\n",
       "                                    Confusion Matrix  \n",
       "2  [[12  0  0  6  0]\\n [ 2  0  0  0  0]\\n [ 7  0 ...  \n",
       "2  [[ 4  0  4  0 18]\\n [ 2  0  2  0  5]\\n [ 1  0 ...  \n",
       "2  [[ 5  0  5  7  0]\\n [ 2  1  1  3  0]\\n [ 1  1 ...  "
      ]
     },
     "execution_count": 11,
     "metadata": {},
     "output_type": "execute_result"
    }
   ],
   "source": [
    "df_trixy = pd.DataFrame()\n",
    "df_trixy = pd.concat([df_trixy,df_glove.iloc[2:3,:8]])\n",
    "df_trixy = pd.concat([df_trixy,df_google_w2v.iloc[2:3,:8]])\n",
    "df_trixy = pd.concat([df_trixy,df_trained_w2v.iloc[2:3,:8]])\n",
    "df_trixy['Coder'] = list_models\n",
    "df_trixy.rename(columns = {'Coder':'Models'}, inplace = True) \n",
    "df_trixy"
   ]
  },
  {
   "cell_type": "code",
   "execution_count": 12,
   "metadata": {},
   "outputs": [
    {
     "data": {
      "image/png": "[encoded data removed]",
      "text/plain": [
       "<Figure size 432x288 with 2 Axes>"
      ]
     },
     "metadata": {
      "needs_background": "light"
     },
     "output_type": "display_data"
    },
    {
     "data": {
      "image/png": "[encoded data removed]",
      "text/plain": [
       "<Figure size 432x288 with 2 Axes>"
      ]
     },
     "metadata": {
      "needs_background": "light"
     },
     "output_type": "display_data"
    },
    {
     "data": {
      "image/png": "[encoded data removed]",
      "text/plain": [
       "<Figure size 432x288 with 2 Axes>"
      ]
     },
     "metadata": {
      "needs_background": "light"
     },
     "output_type": "display_data"
    }
   ],
   "source": [
    "# Confusion Matrix Plot for GloVe\n",
    "plt.figure(1)\n",
    "df_cm = pd.read_csv(\"GloVe/Trixy.csv\")\n",
    "labels = list(set(df_cm['Y']))\n",
    "cm = confusion_matrix(df_cm['Y'], df_cm['Predicted_Values'], labels)\n",
    "\n",
    "ax= plt.subplot()\n",
    "sns.heatmap(cm, annot=True, ax = ax); #annot=True to annotate cells\n",
    "ax.set_xlabel('Predicted labels');ax.set_ylabel('True labels'); \n",
    "ax.set_title('GloVe - Confusion Matrix'); \n",
    "ax.xaxis.set_ticklabels(labels); ax.yaxis.set_ticklabels(labels);\n",
    "\n",
    "# Confusion Matrix Plot for GoogleW2V\n",
    "plt.figure(2)\n",
    "df_cm = pd.read_csv(\"GoogleW2V/Trixy.csv\")\n",
    "labels = list(set(df_cm['Y']))\n",
    "cm = confusion_matrix(df_cm['Y'], df_cm['Predicted_Values'], labels)\n",
    "\n",
    "ax= plt.subplot()\n",
    "sns.heatmap(cm, annot=True, ax = ax); #annot=True to annotate cells\n",
    "ax.set_xlabel('Predicted labels');ax.set_ylabel('True labels'); \n",
    "ax.set_title('GoogleW2V - Confusion Matrix'); \n",
    "ax.xaxis.set_ticklabels(labels); ax.yaxis.set_ticklabels(labels);\n",
    "\n",
    "# Confusion Matrix Plot for TrainedW2V\n",
    "plt.figure(3)\n",
    "df_cm = pd.read_csv(\"TrainedW2V/Trixy.csv\")\n",
    "labels = list(set(df_cm['Y']))\n",
    "cm = confusion_matrix(df_cm['Y'], df_cm['Predicted_Values'], labels)\n",
    "\n",
    "ax= plt.subplot()\n",
    "sns.heatmap(cm, annot=True, ax = ax); #annot=True to annotate cells\n",
    "ax.set_xlabel('Predicted labels');ax.set_ylabel('True labels'); \n",
    "ax.set_title('TrainedW2V - Confusion Matrix'); \n",
    "ax.xaxis.set_ticklabels(labels); ax.yaxis.set_ticklabels(labels);\n",
    "\n",
    "plt.show()"
   ]
  },
  {
   "cell_type": "markdown",
   "metadata": {},
   "source": [
    "## 3. Frenard"
   ]
  },
  {
   "cell_type": "markdown",
   "metadata": {},
   "source": [
    "### In this case, we have taken all the usefull sentences labelled by Frenard."
   ]
  },
  {
   "cell_type": "code",
   "execution_count": 13,
   "metadata": {},
   "outputs": [
    {
     "data": {
      "text/html": [
       "<div>\n",
       "<style scoped>\n",
       "    .dataframe tbody tr th:only-of-type {\n",
       "        vertical-align: middle;\n",
       "    }\n",
       "\n",
       "    .dataframe tbody tr th {\n",
       "        vertical-align: top;\n",
       "    }\n",
       "\n",
       "    .dataframe thead th {\n",
       "        text-align: right;\n",
       "    }\n",
       "</style>\n",
       "<table border=\"1\" class=\"dataframe\">\n",
       "  <thead>\n",
       "    <tr style=\"text-align: right;\">\n",
       "      <th></th>\n",
       "      <th>Models</th>\n",
       "      <th>Train_Accuracy</th>\n",
       "      <th>Val_Accuracy</th>\n",
       "      <th>Test_Accuracy</th>\n",
       "      <th>#TestData</th>\n",
       "      <th>#AllData</th>\n",
       "      <th>Classes</th>\n",
       "      <th>Confusion Matrix</th>\n",
       "    </tr>\n",
       "  </thead>\n",
       "  <tbody>\n",
       "    <tr>\n",
       "      <th>3</th>\n",
       "      <td>Glove</td>\n",
       "      <td>0.820666</td>\n",
       "      <td>0.817647</td>\n",
       "      <td>0.430380</td>\n",
       "      <td>79</td>\n",
       "      <td>413</td>\n",
       "      <td>['D', 'H', 'T', 'P', 'O']</td>\n",
       "      <td>[[ 0  0  0  0  6]\\n [ 0  0  2  1  1]\\n [ 0  0 ...</td>\n",
       "    </tr>\n",
       "    <tr>\n",
       "      <th>3</th>\n",
       "      <td>Google_W2V</td>\n",
       "      <td>0.904207</td>\n",
       "      <td>0.828571</td>\n",
       "      <td>0.376812</td>\n",
       "      <td>69</td>\n",
       "      <td>413</td>\n",
       "      <td>['O', 'P', 'T', 'H', 'D']</td>\n",
       "      <td>[[18  7  0  0  0]\\n [12  8  0  0  0]\\n [10  7 ...</td>\n",
       "    </tr>\n",
       "    <tr>\n",
       "      <th>3</th>\n",
       "      <td>Trained_W2V</td>\n",
       "      <td>0.866894</td>\n",
       "      <td>0.824242</td>\n",
       "      <td>0.448276</td>\n",
       "      <td>87</td>\n",
       "      <td>413</td>\n",
       "      <td>['P', 'H', 'D', 'O', 'T']</td>\n",
       "      <td>[[ 3  0  0 16  2]\\n [ 0  2  0  4  0]\\n [ 1  0 ...</td>\n",
       "    </tr>\n",
       "  </tbody>\n",
       "</table>\n",
       "</div>"
      ],
      "text/plain": [
       "        Models  Train_Accuracy  Val_Accuracy  Test_Accuracy  #TestData  \\\n",
       "3        Glove        0.820666      0.817647       0.430380         79   \n",
       "3   Google_W2V        0.904207      0.828571       0.376812         69   \n",
       "3  Trained_W2V        0.866894      0.824242       0.448276         87   \n",
       "\n",
       "   #AllData                    Classes  \\\n",
       "3       413  ['D', 'H', 'T', 'P', 'O']   \n",
       "3       413  ['O', 'P', 'T', 'H', 'D']   \n",
       "3       413  ['P', 'H', 'D', 'O', 'T']   \n",
       "\n",
       "                                    Confusion Matrix  \n",
       "3  [[ 0  0  0  0  6]\\n [ 0  0  2  1  1]\\n [ 0  0 ...  \n",
       "3  [[18  7  0  0  0]\\n [12  8  0  0  0]\\n [10  7 ...  \n",
       "3  [[ 3  0  0 16  2]\\n [ 0  2  0  4  0]\\n [ 1  0 ...  "
      ]
     },
     "execution_count": 13,
     "metadata": {},
     "output_type": "execute_result"
    }
   ],
   "source": [
    "df_frenard = pd.DataFrame()\n",
    "df_frenard = pd.concat([df_frenard,df_glove.iloc[3:4,:8]])\n",
    "df_frenard = pd.concat([df_frenard,df_google_w2v.iloc[3:4,:8]])\n",
    "df_frenard = pd.concat([df_frenard,df_trained_w2v.iloc[3:4,:8]])\n",
    "df_frenard['Coder'] = list_models\n",
    "df_frenard.rename(columns = {'Coder':'Models'}, inplace = True) \n",
    "df_frenard"
   ]
  },
  {
   "cell_type": "code",
   "execution_count": 14,
   "metadata": {},
   "outputs": [
    {
     "data": {
      "image/png": "[encoded data removed]",
      "text/plain": [
       "<Figure size 432x288 with 2 Axes>"
      ]
     },
     "metadata": {
      "needs_background": "light"
     },
     "output_type": "display_data"
    },
    {
     "data": {
      "image/png": "[encoded data removed]",
      "text/plain": [
       "<Figure size 432x288 with 2 Axes>"
      ]
     },
     "metadata": {
      "needs_background": "light"
     },
     "output_type": "display_data"
    },
    {
     "data": {
      "image/png": "[encoded data removed]",
      "text/plain": [
       "<Figure size 432x288 with 2 Axes>"
      ]
     },
     "metadata": {
      "needs_background": "light"
     },
     "output_type": "display_data"
    }
   ],
   "source": [
    "# Confusion Matrix Plot for GloVe\n",
    "plt.figure(1)\n",
    "df_cm = pd.read_csv(\"GloVe/Frenard.csv\")\n",
    "labels = list(set(df_cm['Y']))\n",
    "cm = confusion_matrix(df_cm['Y'], df_cm['Predicted_Values'], labels)\n",
    "\n",
    "ax= plt.subplot()\n",
    "sns.heatmap(cm, annot=True, ax = ax); #annot=True to annotate cells\n",
    "ax.set_xlabel('Predicted labels');ax.set_ylabel('True labels'); \n",
    "ax.set_title('GloVe - Confusion Matrix'); \n",
    "ax.xaxis.set_ticklabels(labels); ax.yaxis.set_ticklabels(labels);\n",
    "\n",
    "# Confusion Matrix Plot for GoogleW2V\n",
    "plt.figure(2)\n",
    "df_cm = pd.read_csv(\"GoogleW2V/Frenard.csv\")\n",
    "labels = list(set(df_cm['Y']))\n",
    "cm = confusion_matrix(df_cm['Y'], df_cm['Predicted_Values'], labels)\n",
    "\n",
    "ax= plt.subplot()\n",
    "sns.heatmap(cm, annot=True, ax = ax); #annot=True to annotate cells\n",
    "ax.set_xlabel('Predicted labels');ax.set_ylabel('True labels'); \n",
    "ax.set_title('GoogleW2V - Confusion Matrix'); \n",
    "ax.xaxis.set_ticklabels(labels); ax.yaxis.set_ticklabels(labels);\n",
    "\n",
    "# Confusion Matrix Plot for TrainedW2V\n",
    "plt.figure(3)\n",
    "df_cm = pd.read_csv(\"TrainedW2V/Frenard.csv\")\n",
    "labels = list(set(df_cm['Y']))\n",
    "cm = confusion_matrix(df_cm['Y'], df_cm['Predicted_Values'], labels)\n",
    "\n",
    "ax= plt.subplot()\n",
    "sns.heatmap(cm, annot=True, ax = ax); #annot=True to annotate cells\n",
    "ax.set_xlabel('Predicted labels');ax.set_ylabel('True labels'); \n",
    "ax.set_title('TrainedW2V - Confusion Matrix'); \n",
    "ax.xaxis.set_ticklabels(labels); ax.yaxis.set_ticklabels(labels);\n",
    "\n",
    "plt.show()"
   ]
  },
  {
   "cell_type": "markdown",
   "metadata": {},
   "source": [
    "## 4. Sally and Trixy Agree"
   ]
  },
  {
   "cell_type": "markdown",
   "metadata": {},
   "source": [
    "### In this case, we have taken all the usefull sentences labelled by Sally and Trixy, where they agree."
   ]
  },
  {
   "cell_type": "code",
   "execution_count": 15,
   "metadata": {},
   "outputs": [
    {
     "data": {
      "text/html": [
       "<div>\n",
       "<style scoped>\n",
       "    .dataframe tbody tr th:only-of-type {\n",
       "        vertical-align: middle;\n",
       "    }\n",
       "\n",
       "    .dataframe tbody tr th {\n",
       "        vertical-align: top;\n",
       "    }\n",
       "\n",
       "    .dataframe thead th {\n",
       "        text-align: right;\n",
       "    }\n",
       "</style>\n",
       "<table border=\"1\" class=\"dataframe\">\n",
       "  <thead>\n",
       "    <tr style=\"text-align: right;\">\n",
       "      <th></th>\n",
       "      <th>Models</th>\n",
       "      <th>Train_Accuracy</th>\n",
       "      <th>Val_Accuracy</th>\n",
       "      <th>Test_Accuracy</th>\n",
       "      <th>#TestData</th>\n",
       "      <th>#AllData</th>\n",
       "      <th>Classes</th>\n",
       "      <th>Confusion Matrix</th>\n",
       "    </tr>\n",
       "  </thead>\n",
       "  <tbody>\n",
       "    <tr>\n",
       "      <th>4</th>\n",
       "      <td>Glove</td>\n",
       "      <td>0.922000</td>\n",
       "      <td>0.833333</td>\n",
       "      <td>0.531250</td>\n",
       "      <td>32</td>\n",
       "      <td>144</td>\n",
       "      <td>['P', 'H', 'T', 'D', 'O']</td>\n",
       "      <td>[[ 0  0  0  0  6]\\n [ 0  0  0  0  1]\\n [ 0  0 ...</td>\n",
       "    </tr>\n",
       "    <tr>\n",
       "      <th>4</th>\n",
       "      <td>Google_W2V</td>\n",
       "      <td>0.950943</td>\n",
       "      <td>0.883333</td>\n",
       "      <td>0.538462</td>\n",
       "      <td>26</td>\n",
       "      <td>144</td>\n",
       "      <td>['P', 'T', 'D', 'O', 'H']</td>\n",
       "      <td>[[ 0  0  0  2  0]\\n [ 0  1  0  4  0]\\n [ 0  0 ...</td>\n",
       "    </tr>\n",
       "    <tr>\n",
       "      <th>4</th>\n",
       "      <td>Trained_W2V</td>\n",
       "      <td>0.925455</td>\n",
       "      <td>0.769231</td>\n",
       "      <td>0.523810</td>\n",
       "      <td>21</td>\n",
       "      <td>144</td>\n",
       "      <td>['T', 'H', 'P', 'O', 'D']</td>\n",
       "      <td>[[ 1  1  0  6  0]\\n [ 0  0  0  1  0]\\n [ 0  0 ...</td>\n",
       "    </tr>\n",
       "  </tbody>\n",
       "</table>\n",
       "</div>"
      ],
      "text/plain": [
       "        Models  Train_Accuracy  Val_Accuracy  Test_Accuracy  #TestData  \\\n",
       "4        Glove        0.922000      0.833333       0.531250         32   \n",
       "4   Google_W2V        0.950943      0.883333       0.538462         26   \n",
       "4  Trained_W2V        0.925455      0.769231       0.523810         21   \n",
       "\n",
       "   #AllData                    Classes  \\\n",
       "4       144  ['P', 'H', 'T', 'D', 'O']   \n",
       "4       144  ['P', 'T', 'D', 'O', 'H']   \n",
       "4       144  ['T', 'H', 'P', 'O', 'D']   \n",
       "\n",
       "                                    Confusion Matrix  \n",
       "4  [[ 0  0  0  0  6]\\n [ 0  0  0  0  1]\\n [ 0  0 ...  \n",
       "4  [[ 0  0  0  2  0]\\n [ 0  1  0  4  0]\\n [ 0  0 ...  \n",
       "4  [[ 1  1  0  6  0]\\n [ 0  0  0  1  0]\\n [ 0  0 ...  "
      ]
     },
     "execution_count": 15,
     "metadata": {},
     "output_type": "execute_result"
    }
   ],
   "source": [
    "df_sallytrixy_agree = pd.DataFrame()\n",
    "df_sallytrixy_agree = pd.concat([df_sallytrixy_agree,df_glove.iloc[4:5,:8]])\n",
    "df_sallytrixy_agree = pd.concat([df_sallytrixy_agree,df_google_w2v.iloc[4:5,:8]])\n",
    "df_sallytrixy_agree = pd.concat([df_sallytrixy_agree,df_trained_w2v.iloc[4:5,:8]])\n",
    "df_sallytrixy_agree['Coder'] = list_models\n",
    "df_sallytrixy_agree.rename(columns = {'Coder':'Models'}, inplace = True) \n",
    "df_sallytrixy_agree"
   ]
  },
  {
   "cell_type": "code",
   "execution_count": 16,
   "metadata": {},
   "outputs": [
    {
     "data": {
      "image/png": "[encoded data removed]",
      "text/plain": [
       "<Figure size 432x288 with 2 Axes>"
      ]
     },
     "metadata": {
      "needs_background": "light"
     },
     "output_type": "display_data"
    },
    {
     "data": {
      "image/png": "[encoded data removed]",
      "text/plain": [
       "<Figure size 432x288 with 2 Axes>"
      ]
     },
     "metadata": {
      "needs_background": "light"
     },
     "output_type": "display_data"
    },
    {
     "data": {
      "image/png": "[encoded data removed]",
      "text/plain": [
       "<Figure size 432x288 with 2 Axes>"
      ]
     },
     "metadata": {
      "needs_background": "light"
     },
     "output_type": "display_data"
    }
   ],
   "source": [
    "# Confusion Matrix Plot for GloVe\n",
    "plt.figure(1)\n",
    "df_cm = pd.read_csv(\"GloVe/Sally_Trixy_Agree.csv\")\n",
    "labels = list(set(df_cm['Y']))\n",
    "cm = confusion_matrix(df_cm['Y'], df_cm['Predicted_Values'], labels)\n",
    "\n",
    "ax= plt.subplot()\n",
    "sns.heatmap(cm, annot=True, ax = ax); #annot=True to annotate cells\n",
    "ax.set_xlabel('Predicted labels');ax.set_ylabel('True labels'); \n",
    "ax.set_title('GloVe - Confusion Matrix'); \n",
    "ax.xaxis.set_ticklabels(labels); ax.yaxis.set_ticklabels(labels);\n",
    "\n",
    "# Confusion Matrix Plot for GoogleW2V\n",
    "plt.figure(2)\n",
    "df_cm = pd.read_csv(\"GoogleW2V/Sally_Trixy_Agree.csv\")\n",
    "labels = list(set(df_cm['Y']))\n",
    "cm = confusion_matrix(df_cm['Y'], df_cm['Predicted_Values'], labels)\n",
    "\n",
    "ax= plt.subplot()\n",
    "sns.heatmap(cm, annot=True, ax = ax); #annot=True to annotate cells\n",
    "ax.set_xlabel('Predicted labels');ax.set_ylabel('True labels'); \n",
    "ax.set_title('GoogleW2V - Confusion Matrix'); \n",
    "ax.xaxis.set_ticklabels(labels); ax.yaxis.set_ticklabels(labels);\n",
    "\n",
    "# Confusion Matrix Plot for TrainedW2V\n",
    "plt.figure(3)\n",
    "df_cm = pd.read_csv(\"TrainedW2V/Sally_Trixy_Agree.csv\")\n",
    "labels = list(set(df_cm['Y']))\n",
    "cm = confusion_matrix(df_cm['Y'], df_cm['Predicted_Values'], labels)\n",
    "\n",
    "ax= plt.subplot()\n",
    "sns.heatmap(cm, annot=True, ax = ax); #annot=True to annotate cells\n",
    "ax.set_xlabel('Predicted labels');ax.set_ylabel('True labels'); \n",
    "ax.set_title('TrainedW2V - Confusion Matrix'); \n",
    "ax.xaxis.set_ticklabels(labels); ax.yaxis.set_ticklabels(labels);\n",
    "\n",
    "plt.show()"
   ]
  },
  {
   "cell_type": "markdown",
   "metadata": {},
   "source": [
    "## 5. Sally and Frenard Agree"
   ]
  },
  {
   "cell_type": "markdown",
   "metadata": {},
   "source": [
    "### In this case, we have taken all the usefull sentences labelled by Sally and Frenard, where they agree."
   ]
  },
  {
   "cell_type": "code",
   "execution_count": 12,
   "metadata": {},
   "outputs": [
    {
     "data": {
      "text/html": [
       "<div>\n",
       "<style scoped>\n",
       "    .dataframe tbody tr th:only-of-type {\n",
       "        vertical-align: middle;\n",
       "    }\n",
       "\n",
       "    .dataframe tbody tr th {\n",
       "        vertical-align: top;\n",
       "    }\n",
       "\n",
       "    .dataframe thead th {\n",
       "        text-align: right;\n",
       "    }\n",
       "</style>\n",
       "<table border=\"1\" class=\"dataframe\">\n",
       "  <thead>\n",
       "    <tr style=\"text-align: right;\">\n",
       "      <th></th>\n",
       "      <th>Models</th>\n",
       "      <th>Train_Accuracy</th>\n",
       "      <th>Val_Accuracy</th>\n",
       "      <th>Test_Accuracy</th>\n",
       "      <th>#TestData</th>\n",
       "      <th>#AllData</th>\n",
       "      <th>Classes</th>\n",
       "      <th>Confusion Matrix</th>\n",
       "    </tr>\n",
       "  </thead>\n",
       "  <tbody>\n",
       "    <tr>\n",
       "      <th>5</th>\n",
       "      <td>Glove</td>\n",
       "      <td>0.904000</td>\n",
       "      <td>0.666667</td>\n",
       "      <td>0.571429</td>\n",
       "      <td>14</td>\n",
       "      <td>70</td>\n",
       "      <td>['O', 'P', 'T']</td>\n",
       "      <td>[[8 0 0]\\n [4 0 0]\\n [2 0 0]]</td>\n",
       "    </tr>\n",
       "    <tr>\n",
       "      <th>5</th>\n",
       "      <td>Google_W2V</td>\n",
       "      <td>0.954717</td>\n",
       "      <td>0.766667</td>\n",
       "      <td>0.727273</td>\n",
       "      <td>11</td>\n",
       "      <td>70</td>\n",
       "      <td>['O', 'H', 'D']</td>\n",
       "      <td>[[8 0 0]\\n [1 0 0]\\n [2 0 0]]</td>\n",
       "    </tr>\n",
       "    <tr>\n",
       "      <th>5</th>\n",
       "      <td>Trained_W2V</td>\n",
       "      <td>0.938776</td>\n",
       "      <td>0.866667</td>\n",
       "      <td>0.666667</td>\n",
       "      <td>15</td>\n",
       "      <td>70</td>\n",
       "      <td>['P', 'O', 'D', 'T']</td>\n",
       "      <td>[[ 0  2  0  0]\\n [ 0 10  0  0]\\n [ 0  2  0  0]...</td>\n",
       "    </tr>\n",
       "  </tbody>\n",
       "</table>\n",
       "</div>"
      ],
      "text/plain": [
       "        Models  Train_Accuracy  Val_Accuracy  Test_Accuracy  #TestData  \\\n",
       "5        Glove        0.904000      0.666667       0.571429         14   \n",
       "5   Google_W2V        0.954717      0.766667       0.727273         11   \n",
       "5  Trained_W2V        0.938776      0.866667       0.666667         15   \n",
       "\n",
       "   #AllData               Classes  \\\n",
       "5        70       ['O', 'P', 'T']   \n",
       "5        70       ['O', 'H', 'D']   \n",
       "5        70  ['P', 'O', 'D', 'T']   \n",
       "\n",
       "                                    Confusion Matrix  \n",
       "5                      [[8 0 0]\\n [4 0 0]\\n [2 0 0]]  \n",
       "5                      [[8 0 0]\\n [1 0 0]\\n [2 0 0]]  \n",
       "5  [[ 0  2  0  0]\\n [ 0 10  0  0]\\n [ 0  2  0  0]...  "
      ]
     },
     "execution_count": 12,
     "metadata": {},
     "output_type": "execute_result"
    }
   ],
   "source": [
    "df_sallyfrenard_agree = pd.DataFrame()\n",
    "df_sallyfrenard_agree = pd.concat([df_sallyfrenard_agree,df_glove.iloc[5:6,:8]])\n",
    "df_sallyfrenard_agree = pd.concat([df_sallyfrenard_agree,df_google_w2v.iloc[5:6,:8]])\n",
    "df_sallyfrenard_agree = pd.concat([df_sallyfrenard_agree,df_trained_w2v.iloc[5:6,:8]])\n",
    "df_sallyfrenard_agree['Coder'] = list_models\n",
    "df_sallyfrenard_agree.rename(columns = {'Coder':'Models'}, inplace = True) \n",
    "df_sallyfrenard_agree"
   ]
  },
  {
   "cell_type": "code",
   "execution_count": 35,
   "metadata": {},
   "outputs": [
    {
     "data": {
      "image/png": "[encoded data removed]",
      "text/plain": [
       "<Figure size 432x288 with 2 Axes>"
      ]
     },
     "metadata": {
      "needs_background": "light"
     },
     "output_type": "display_data"
    },
    {
     "data": {
      "image/png": "[encoded data removed]",
      "text/plain": [
       "<Figure size 432x288 with 2 Axes>"
      ]
     },
     "metadata": {
      "needs_background": "light"
     },
     "output_type": "display_data"
    },
    {
     "data": {
      "image/png": "[encoded data removed]",
      "text/plain": [
       "<Figure size 432x288 with 2 Axes>"
      ]
     },
     "metadata": {
      "needs_background": "light"
     },
     "output_type": "display_data"
    }
   ],
   "source": [
    "# Confusion Matrix Plot for GloVe\n",
    "plt.figure(1)\n",
    "df_cm = pd.read_csv(\"GloVe/Sally_Frenard_Agree.csv\")\n",
    "labels = list(set(df_cm['Y']))\n",
    "cm = confusion_matrix(df_cm['Y'], df_cm['Predicted_Values'], labels)\n",
    "\n",
    "ax= plt.subplot()\n",
    "sns.heatmap(cm, annot=True, ax = ax); #annot=True to annotate cells\n",
    "ax.set_xlabel('Predicted labels');ax.set_ylabel('True labels'); \n",
    "ax.set_title('GloVe - Confusion Matrix'); \n",
    "ax.xaxis.set_ticklabels(labels); ax.yaxis.set_ticklabels(labels);\n",
    "\n",
    "# Confusion Matrix Plot for GoogleW2V\n",
    "plt.figure(2)\n",
    "df_cm = pd.read_csv(\"GoogleW2V/Sally_Frenard_Agree.csv\")\n",
    "labels = list(set(df_cm['Y']))\n",
    "cm = confusion_matrix(df_cm['Y'], df_cm['Predicted_Values'], labels)\n",
    "\n",
    "ax= plt.subplot()\n",
    "sns.heatmap(cm, annot=True, ax = ax); #annot=True to annotate cells\n",
    "ax.set_xlabel('Predicted labels');ax.set_ylabel('True labels'); \n",
    "ax.set_title('GoogleW2V - Confusion Matrix'); \n",
    "ax.xaxis.set_ticklabels(labels); ax.yaxis.set_ticklabels(labels);\n",
    "\n",
    "# Confusion Matrix Plot for TrainedW2V\n",
    "plt.figure(3)\n",
    "df_cm = pd.read_csv(\"TrainedW2V/Sally_Frenard_Agree.csv\")\n",
    "labels = list(set(df_cm['Y']))\n",
    "cm = confusion_matrix(df_cm['Y'], df_cm['Predicted_Values'], labels)\n",
    "\n",
    "ax= plt.subplot()\n",
    "sns.heatmap(cm, annot=True, ax = ax); #annot=True to annotate cells\n",
    "ax.set_xlabel('Predicted labels');ax.set_ylabel('True labels'); \n",
    "ax.set_title('TrainedW2V - Confusion Matrix'); \n",
    "ax.xaxis.set_ticklabels(labels); ax.yaxis.set_ticklabels(labels);\n",
    "\n",
    "plt.show()"
   ]
  },
  {
   "cell_type": "markdown",
   "metadata": {},
   "source": [
    "## 6. Sally and Trixy Disgree"
   ]
  },
  {
   "cell_type": "markdown",
   "metadata": {},
   "source": [
    "### In this case, we have taken all the usefull sentences labelled by Sally, where Sally and Trixy disagree."
   ]
  },
  {
   "cell_type": "code",
   "execution_count": 13,
   "metadata": {},
   "outputs": [
    {
     "data": {
      "text/html": [
       "<div>\n",
       "<style scoped>\n",
       "    .dataframe tbody tr th:only-of-type {\n",
       "        vertical-align: middle;\n",
       "    }\n",
       "\n",
       "    .dataframe tbody tr th {\n",
       "        vertical-align: top;\n",
       "    }\n",
       "\n",
       "    .dataframe thead th {\n",
       "        text-align: right;\n",
       "    }\n",
       "</style>\n",
       "<table border=\"1\" class=\"dataframe\">\n",
       "  <thead>\n",
       "    <tr style=\"text-align: right;\">\n",
       "      <th></th>\n",
       "      <th>Models</th>\n",
       "      <th>Train_Accuracy</th>\n",
       "      <th>Val_Accuracy</th>\n",
       "      <th>Test_Accuracy</th>\n",
       "      <th>#TestData</th>\n",
       "      <th>#AllData</th>\n",
       "      <th>Classes</th>\n",
       "      <th>Confusion Matrix</th>\n",
       "    </tr>\n",
       "  </thead>\n",
       "  <tbody>\n",
       "    <tr>\n",
       "      <th>6</th>\n",
       "      <td>Glove</td>\n",
       "      <td>0.958333</td>\n",
       "      <td>0.571429</td>\n",
       "      <td>0.764706</td>\n",
       "      <td>17</td>\n",
       "      <td>84</td>\n",
       "      <td>['T', 'H', 'O']</td>\n",
       "      <td>[[ 1  0  3]\\n [ 0  0  1]\\n [ 0  0 12]]</td>\n",
       "    </tr>\n",
       "    <tr>\n",
       "      <th>6</th>\n",
       "      <td>Google_W2V</td>\n",
       "      <td>1.000000</td>\n",
       "      <td>0.714286</td>\n",
       "      <td>0.611111</td>\n",
       "      <td>18</td>\n",
       "      <td>84</td>\n",
       "      <td>['T', 'O']</td>\n",
       "      <td>[[3 3]\\n [4 8]]</td>\n",
       "    </tr>\n",
       "    <tr>\n",
       "      <th>6</th>\n",
       "      <td>Trained_W2V</td>\n",
       "      <td>0.989071</td>\n",
       "      <td>0.809524</td>\n",
       "      <td>0.937500</td>\n",
       "      <td>16</td>\n",
       "      <td>84</td>\n",
       "      <td>['T', 'O']</td>\n",
       "      <td>[[ 2  0]\\n [ 1 13]]</td>\n",
       "    </tr>\n",
       "  </tbody>\n",
       "</table>\n",
       "</div>"
      ],
      "text/plain": [
       "        Models  Train_Accuracy  Val_Accuracy  Test_Accuracy  #TestData  \\\n",
       "6        Glove        0.958333      0.571429       0.764706         17   \n",
       "6   Google_W2V        1.000000      0.714286       0.611111         18   \n",
       "6  Trained_W2V        0.989071      0.809524       0.937500         16   \n",
       "\n",
       "   #AllData          Classes                        Confusion Matrix  \n",
       "6        84  ['T', 'H', 'O']  [[ 1  0  3]\\n [ 0  0  1]\\n [ 0  0 12]]  \n",
       "6        84       ['T', 'O']                         [[3 3]\\n [4 8]]  \n",
       "6        84       ['T', 'O']                     [[ 2  0]\\n [ 1 13]]  "
      ]
     },
     "execution_count": 13,
     "metadata": {},
     "output_type": "execute_result"
    }
   ],
   "source": [
    "df_sallytrixy_disagree = pd.DataFrame()\n",
    "df_sallytrixy_disagree = pd.concat([df_sallytrixy_disagree,df_glove.iloc[6:7,:8]])\n",
    "df_sallytrixy_disagree = pd.concat([df_sallytrixy_disagree,df_google_w2v.iloc[6:7,:8]])\n",
    "df_sallytrixy_disagree = pd.concat([df_sallytrixy_disagree,df_trained_w2v.iloc[6:7,:8]])\n",
    "df_sallytrixy_disagree['Coder'] = list_models\n",
    "df_sallytrixy_disagree.rename(columns = {'Coder':'Models'}, inplace = True) \n",
    "df_sallytrixy_disagree"
   ]
  },
  {
   "cell_type": "code",
   "execution_count": 36,
   "metadata": {},
   "outputs": [
    {
     "data": {
      "image/png": "[encoded data removed]",
      "text/plain": [
       "<Figure size 432x288 with 2 Axes>"
      ]
     },
     "metadata": {
      "needs_background": "light"
     },
     "output_type": "display_data"
    },
    {
     "data": {
      "image/png": "[encoded data removed]",
      "text/plain": [
       "<Figure size 432x288 with 2 Axes>"
      ]
     },
     "metadata": {
      "needs_background": "light"
     },
     "output_type": "display_data"
    },
    {
     "data": {
      "image/png": "[encoded data removed]",
      "text/plain": [
       "<Figure size 432x288 with 2 Axes>"
      ]
     },
     "metadata": {
      "needs_background": "light"
     },
     "output_type": "display_data"
    }
   ],
   "source": [
    "# Confusion Matrix Plot for GloVe\n",
    "plt.figure(1)\n",
    "df_cm = pd.read_csv(\"GloVe/Sally_Trixy_DisAgree.csv\")\n",
    "labels = list(set(df_cm['Y']))\n",
    "cm = confusion_matrix(df_cm['Y'], df_cm['Predicted_Values'], labels)\n",
    "\n",
    "ax= plt.subplot()\n",
    "sns.heatmap(cm, annot=True, ax = ax); #annot=True to annotate cells\n",
    "ax.set_xlabel('Predicted labels');ax.set_ylabel('True labels'); \n",
    "ax.set_title('GloVe - Confusion Matrix'); \n",
    "ax.xaxis.set_ticklabels(labels); ax.yaxis.set_ticklabels(labels);\n",
    "\n",
    "# Confusion Matrix Plot for GoogleW2V\n",
    "plt.figure(2)\n",
    "df_cm = pd.read_csv(\"GoogleW2V/Sally_Trixy_DisAgree.csv\")\n",
    "labels = list(set(df_cm['Y']))\n",
    "cm = confusion_matrix(df_cm['Y'], df_cm['Predicted_Values'], labels)\n",
    "\n",
    "ax= plt.subplot()\n",
    "sns.heatmap(cm, annot=True, ax = ax); #annot=True to annotate cells\n",
    "ax.set_xlabel('Predicted labels');ax.set_ylabel('True labels'); \n",
    "ax.set_title('GoogleW2V - Confusion Matrix'); \n",
    "ax.xaxis.set_ticklabels(labels); ax.yaxis.set_ticklabels(labels);\n",
    "\n",
    "# Confusion Matrix Plot for TrainedW2V\n",
    "plt.figure(3)\n",
    "df_cm = pd.read_csv(\"TrainedW2V/Sally_Trixy_DisAgree.csv\")\n",
    "labels = list(set(df_cm['Y']))\n",
    "cm = confusion_matrix(df_cm['Y'], df_cm['Predicted_Values'], labels)\n",
    "\n",
    "ax= plt.subplot()\n",
    "sns.heatmap(cm, annot=True, ax = ax); #annot=True to annotate cells\n",
    "ax.set_xlabel('Predicted labels');ax.set_ylabel('True labels'); \n",
    "ax.set_title('TrainedW2V - Confusion Matrix'); \n",
    "ax.xaxis.set_ticklabels(labels); ax.yaxis.set_ticklabels(labels);\n",
    "\n",
    "plt.show()"
   ]
  },
  {
   "cell_type": "markdown",
   "metadata": {},
   "source": [
    "## 7. Sally and Frenard Disgree"
   ]
  },
  {
   "cell_type": "markdown",
   "metadata": {},
   "source": [
    "### In this case, we have taken all the usefull sentences labelled by Sally, where Sally and Frenard disagree."
   ]
  },
  {
   "cell_type": "code",
   "execution_count": 14,
   "metadata": {},
   "outputs": [
    {
     "data": {
      "text/html": [
       "<div>\n",
       "<style scoped>\n",
       "    .dataframe tbody tr th:only-of-type {\n",
       "        vertical-align: middle;\n",
       "    }\n",
       "\n",
       "    .dataframe tbody tr th {\n",
       "        vertical-align: top;\n",
       "    }\n",
       "\n",
       "    .dataframe thead th {\n",
       "        text-align: right;\n",
       "    }\n",
       "</style>\n",
       "<table border=\"1\" class=\"dataframe\">\n",
       "  <thead>\n",
       "    <tr style=\"text-align: right;\">\n",
       "      <th></th>\n",
       "      <th>Models</th>\n",
       "      <th>Train_Accuracy</th>\n",
       "      <th>Val_Accuracy</th>\n",
       "      <th>Test_Accuracy</th>\n",
       "      <th>#TestData</th>\n",
       "      <th>#AllData</th>\n",
       "      <th>Classes</th>\n",
       "      <th>Confusion Matrix</th>\n",
       "    </tr>\n",
       "  </thead>\n",
       "  <tbody>\n",
       "    <tr>\n",
       "      <th>7</th>\n",
       "      <td>Glove</td>\n",
       "      <td>0.896739</td>\n",
       "      <td>0.916667</td>\n",
       "      <td>0.800000</td>\n",
       "      <td>10</td>\n",
       "      <td>62</td>\n",
       "      <td>['H', 'O']</td>\n",
       "      <td>[[0 2]\\n [0 8]]</td>\n",
       "    </tr>\n",
       "    <tr>\n",
       "      <th>7</th>\n",
       "      <td>Google_W2V</td>\n",
       "      <td>0.958333</td>\n",
       "      <td>0.950000</td>\n",
       "      <td>0.866667</td>\n",
       "      <td>15</td>\n",
       "      <td>62</td>\n",
       "      <td>['T', 'O']</td>\n",
       "      <td>[[ 0  2]\\n [ 0 13]]</td>\n",
       "    </tr>\n",
       "    <tr>\n",
       "      <th>7</th>\n",
       "      <td>Trained_W2V</td>\n",
       "      <td>0.988889</td>\n",
       "      <td>0.800000</td>\n",
       "      <td>0.750000</td>\n",
       "      <td>12</td>\n",
       "      <td>62</td>\n",
       "      <td>['T', 'O']</td>\n",
       "      <td>[[0 3]\\n [0 9]]</td>\n",
       "    </tr>\n",
       "  </tbody>\n",
       "</table>\n",
       "</div>"
      ],
      "text/plain": [
       "        Models  Train_Accuracy  Val_Accuracy  Test_Accuracy  #TestData  \\\n",
       "7        Glove        0.896739      0.916667       0.800000         10   \n",
       "7   Google_W2V        0.958333      0.950000       0.866667         15   \n",
       "7  Trained_W2V        0.988889      0.800000       0.750000         12   \n",
       "\n",
       "   #AllData     Classes     Confusion Matrix  \n",
       "7        62  ['H', 'O']      [[0 2]\\n [0 8]]  \n",
       "7        62  ['T', 'O']  [[ 0  2]\\n [ 0 13]]  \n",
       "7        62  ['T', 'O']      [[0 3]\\n [0 9]]  "
      ]
     },
     "execution_count": 14,
     "metadata": {},
     "output_type": "execute_result"
    }
   ],
   "source": [
    "df_sallyfrenard_disagree = pd.DataFrame()\n",
    "df_sallyfrenard_disagree = pd.concat([df_sallyfrenard_disagree,df_glove.iloc[7:8,:8]])\n",
    "df_sallyfrenard_disagree = pd.concat([df_sallyfrenard_disagree,df_google_w2v.iloc[7:8,:8]])\n",
    "df_sallyfrenard_disagree = pd.concat([df_sallyfrenard_disagree,df_trained_w2v.iloc[7:8,:8]])\n",
    "df_sallyfrenard_disagree['Coder'] = list_models\n",
    "df_sallyfrenard_disagree.rename(columns = {'Coder':'Models'}, inplace = True) \n",
    "df_sallyfrenard_disagree"
   ]
  },
  {
   "cell_type": "code",
   "execution_count": 37,
   "metadata": {},
   "outputs": [
    {
     "data": {
      "image/png": "[encoded data removed]",
      "text/plain": [
       "<Figure size 432x288 with 2 Axes>"
      ]
     },
     "metadata": {
      "needs_background": "light"
     },
     "output_type": "display_data"
    },
    {
     "data": {
      "image/png": "[encoded data removed]",
      "text/plain": [
       "<Figure size 432x288 with 2 Axes>"
      ]
     },
     "metadata": {
      "needs_background": "light"
     },
     "output_type": "display_data"
    },
    {
     "data": {
      "image/png": "[encoded data removed]",
      "text/plain": [
       "<Figure size 432x288 with 2 Axes>"
      ]
     },
     "metadata": {
      "needs_background": "light"
     },
     "output_type": "display_data"
    }
   ],
   "source": [
    "# Confusion Matrix Plot for GloVe\n",
    "plt.figure(1)\n",
    "df_cm = pd.read_csv(\"GloVe/Sally_Frenard_DisAgree.csv\")\n",
    "labels = list(set(df_cm['Y']))\n",
    "cm = confusion_matrix(df_cm['Y'], df_cm['Predicted_Values'], labels)\n",
    "\n",
    "ax= plt.subplot()\n",
    "sns.heatmap(cm, annot=True, ax = ax); #annot=True to annotate cells\n",
    "ax.set_xlabel('Predicted labels');ax.set_ylabel('True labels'); \n",
    "ax.set_title('GloVe - Confusion Matrix'); \n",
    "ax.xaxis.set_ticklabels(labels); ax.yaxis.set_ticklabels(labels);\n",
    "\n",
    "# Confusion Matrix Plot for GoogleW2V\n",
    "plt.figure(2)\n",
    "df_cm = pd.read_csv(\"GoogleW2V/Sally_Frenard_DisAgree.csv\")\n",
    "labels = list(set(df_cm['Y']))\n",
    "cm = confusion_matrix(df_cm['Y'], df_cm['Predicted_Values'], labels)\n",
    "\n",
    "ax= plt.subplot()\n",
    "sns.heatmap(cm, annot=True, ax = ax); #annot=True to annotate cells\n",
    "ax.set_xlabel('Predicted labels');ax.set_ylabel('True labels'); \n",
    "ax.set_title('GoogleW2V - Confusion Matrix'); \n",
    "ax.xaxis.set_ticklabels(labels); ax.yaxis.set_ticklabels(labels);\n",
    "\n",
    "# Confusion Matrix Plot for TrainedW2V\n",
    "plt.figure(3)\n",
    "df_cm = pd.read_csv(\"TrainedW2V/Sally_Frenard_DisAgree.csv\")\n",
    "labels = list(set(df_cm['Y']))\n",
    "cm = confusion_matrix(df_cm['Y'], df_cm['Predicted_Values'], labels)\n",
    "\n",
    "ax= plt.subplot()\n",
    "sns.heatmap(cm, annot=True, ax = ax); #annot=True to annotate cells\n",
    "ax.set_xlabel('Predicted labels');ax.set_ylabel('True labels'); \n",
    "ax.set_title('TrainedW2V - Confusion Matrix'); \n",
    "ax.xaxis.set_ticklabels(labels); ax.yaxis.set_ticklabels(labels);\n",
    "\n",
    "plt.show()"
   ]
  },
  {
   "cell_type": "markdown",
   "metadata": {},
   "source": [
    "## 8. Trixy and Sally Disagree"
   ]
  },
  {
   "cell_type": "markdown",
   "metadata": {},
   "source": [
    "### In this case, we have taken all the usefull sentences labelled by Trixy, where Sally and Trixy disagree."
   ]
  },
  {
   "cell_type": "code",
   "execution_count": 15,
   "metadata": {},
   "outputs": [
    {
     "data": {
      "text/html": [
       "<div>\n",
       "<style scoped>\n",
       "    .dataframe tbody tr th:only-of-type {\n",
       "        vertical-align: middle;\n",
       "    }\n",
       "\n",
       "    .dataframe tbody tr th {\n",
       "        vertical-align: top;\n",
       "    }\n",
       "\n",
       "    .dataframe thead th {\n",
       "        text-align: right;\n",
       "    }\n",
       "</style>\n",
       "<table border=\"1\" class=\"dataframe\">\n",
       "  <thead>\n",
       "    <tr style=\"text-align: right;\">\n",
       "      <th></th>\n",
       "      <th>Models</th>\n",
       "      <th>Train_Accuracy</th>\n",
       "      <th>Val_Accuracy</th>\n",
       "      <th>Test_Accuracy</th>\n",
       "      <th>#TestData</th>\n",
       "      <th>#AllData</th>\n",
       "      <th>Classes</th>\n",
       "      <th>Confusion Matrix</th>\n",
       "    </tr>\n",
       "  </thead>\n",
       "  <tbody>\n",
       "    <tr>\n",
       "      <th>8</th>\n",
       "      <td>Glove</td>\n",
       "      <td>0.852525</td>\n",
       "      <td>0.800000</td>\n",
       "      <td>0.375000</td>\n",
       "      <td>24</td>\n",
       "      <td>134</td>\n",
       "      <td>['O', 'D', 'T', 'P']</td>\n",
       "      <td>[[4 0 2 4]\\n [0 0 0 2]\\n [0 0 1 5]\\n [1 0 1 4]]</td>\n",
       "    </tr>\n",
       "    <tr>\n",
       "      <th>8</th>\n",
       "      <td>Google_W2V</td>\n",
       "      <td>0.934043</td>\n",
       "      <td>0.800000</td>\n",
       "      <td>0.655172</td>\n",
       "      <td>29</td>\n",
       "      <td>134</td>\n",
       "      <td>['H', 'T', 'D', 'P', 'O']</td>\n",
       "      <td>[[ 0  0  0  1  0]\\n [ 0  4  0  3  0]\\n [ 0  1 ...</td>\n",
       "    </tr>\n",
       "    <tr>\n",
       "      <th>8</th>\n",
       "      <td>Trained_W2V</td>\n",
       "      <td>0.954000</td>\n",
       "      <td>0.833333</td>\n",
       "      <td>0.409091</td>\n",
       "      <td>22</td>\n",
       "      <td>134</td>\n",
       "      <td>['D', 'O', 'T', 'H', 'P']</td>\n",
       "      <td>[[0 0 1 0 4]\\n [0 5 0 0 2]\\n [0 1 1 0 2]\\n [0 ...</td>\n",
       "    </tr>\n",
       "  </tbody>\n",
       "</table>\n",
       "</div>"
      ],
      "text/plain": [
       "        Models  Train_Accuracy  Val_Accuracy  Test_Accuracy  #TestData  \\\n",
       "8        Glove        0.852525      0.800000       0.375000         24   \n",
       "8   Google_W2V        0.934043      0.800000       0.655172         29   \n",
       "8  Trained_W2V        0.954000      0.833333       0.409091         22   \n",
       "\n",
       "   #AllData                    Classes  \\\n",
       "8       134       ['O', 'D', 'T', 'P']   \n",
       "8       134  ['H', 'T', 'D', 'P', 'O']   \n",
       "8       134  ['D', 'O', 'T', 'H', 'P']   \n",
       "\n",
       "                                    Confusion Matrix  \n",
       "8    [[4 0 2 4]\\n [0 0 0 2]\\n [0 0 1 5]\\n [1 0 1 4]]  \n",
       "8  [[ 0  0  0  1  0]\\n [ 0  4  0  3  0]\\n [ 0  1 ...  \n",
       "8  [[0 0 1 0 4]\\n [0 5 0 0 2]\\n [0 1 1 0 2]\\n [0 ...  "
      ]
     },
     "execution_count": 15,
     "metadata": {},
     "output_type": "execute_result"
    }
   ],
   "source": [
    "df_trixysally_disagree = pd.DataFrame()\n",
    "df_trixysally_disagree = pd.concat([df_trixysally_disagree,df_glove.iloc[8:9,:8]])\n",
    "df_trixysally_disagree = pd.concat([df_trixysally_disagree,df_google_w2v.iloc[8:9,:8]])\n",
    "df_trixysally_disagree = pd.concat([df_trixysally_disagree,df_trained_w2v.iloc[8:9,:8]])\n",
    "df_trixysally_disagree['Coder'] = list_models\n",
    "df_trixysally_disagree.rename(columns = {'Coder':'Models'}, inplace = True) \n",
    "df_trixysally_disagree"
   ]
  },
  {
   "cell_type": "code",
   "execution_count": 38,
   "metadata": {},
   "outputs": [
    {
     "data": {
      "image/png": "[encoded data removed]",
      "text/plain": [
       "<Figure size 432x288 with 2 Axes>"
      ]
     },
     "metadata": {
      "needs_background": "light"
     },
     "output_type": "display_data"
    },
    {
     "data": {
      "image/png": "[encoded data removed]",
      "text/plain": [
       "<Figure size 432x288 with 2 Axes>"
      ]
     },
     "metadata": {
      "needs_background": "light"
     },
     "output_type": "display_data"
    },
    {
     "data": {
      "image/png": "[encoded data removed]",
      "text/plain": [
       "<Figure size 432x288 with 2 Axes>"
      ]
     },
     "metadata": {
      "needs_background": "light"
     },
     "output_type": "display_data"
    }
   ],
   "source": [
    "# Confusion Matrix Plot for GloVe\n",
    "plt.figure(1)\n",
    "df_cm = pd.read_csv(\"GloVe/Trixy_Sally_DisAgree.csv\")\n",
    "labels = list(set(df_cm['Y']))\n",
    "cm = confusion_matrix(df_cm['Y'], df_cm['Predicted_Values'], labels)\n",
    "\n",
    "ax= plt.subplot()\n",
    "sns.heatmap(cm, annot=True, ax = ax); #annot=True to annotate cells\n",
    "ax.set_xlabel('Predicted labels');ax.set_ylabel('True labels'); \n",
    "ax.set_title('GloVe - Confusion Matrix'); \n",
    "ax.xaxis.set_ticklabels(labels); ax.yaxis.set_ticklabels(labels);\n",
    "\n",
    "# Confusion Matrix Plot for GoogleW2V\n",
    "plt.figure(2)\n",
    "df_cm = pd.read_csv(\"GoogleW2V/Trixy_Sally_DisAgree.csv\")\n",
    "labels = list(set(df_cm['Y']))\n",
    "cm = confusion_matrix(df_cm['Y'], df_cm['Predicted_Values'], labels)\n",
    "\n",
    "ax= plt.subplot()\n",
    "sns.heatmap(cm, annot=True, ax = ax); #annot=True to annotate cells\n",
    "ax.set_xlabel('Predicted labels');ax.set_ylabel('True labels'); \n",
    "ax.set_title('GoogleW2V - Confusion Matrix'); \n",
    "ax.xaxis.set_ticklabels(labels); ax.yaxis.set_ticklabels(labels);\n",
    "\n",
    "# Confusion Matrix Plot for TrainedW2V\n",
    "plt.figure(3)\n",
    "df_cm = pd.read_csv(\"TrainedW2V/Trixy_Sally_DisAgree.csv\")\n",
    "labels = list(set(df_cm['Y']))\n",
    "cm = confusion_matrix(df_cm['Y'], df_cm['Predicted_Values'], labels)\n",
    "\n",
    "ax= plt.subplot()\n",
    "sns.heatmap(cm, annot=True, ax = ax); #annot=True to annotate cells\n",
    "ax.set_xlabel('Predicted labels');ax.set_ylabel('True labels'); \n",
    "ax.set_title('TrainedW2V - Confusion Matrix'); \n",
    "ax.xaxis.set_ticklabels(labels); ax.yaxis.set_ticklabels(labels);\n",
    "\n",
    "plt.show()"
   ]
  },
  {
   "cell_type": "markdown",
   "metadata": {},
   "source": [
    "## 9. Frenard and Sally Disagree"
   ]
  },
  {
   "cell_type": "markdown",
   "metadata": {},
   "source": [
    "### In this case, we have taken all the usefull sentences labelled by Frenard, where Sally and Frenard disagree."
   ]
  },
  {
   "cell_type": "code",
   "execution_count": 16,
   "metadata": {},
   "outputs": [
    {
     "data": {
      "text/html": [
       "<div>\n",
       "<style scoped>\n",
       "    .dataframe tbody tr th:only-of-type {\n",
       "        vertical-align: middle;\n",
       "    }\n",
       "\n",
       "    .dataframe tbody tr th {\n",
       "        vertical-align: top;\n",
       "    }\n",
       "\n",
       "    .dataframe thead th {\n",
       "        text-align: right;\n",
       "    }\n",
       "</style>\n",
       "<table border=\"1\" class=\"dataframe\">\n",
       "  <thead>\n",
       "    <tr style=\"text-align: right;\">\n",
       "      <th></th>\n",
       "      <th>Models</th>\n",
       "      <th>Train_Accuracy</th>\n",
       "      <th>Val_Accuracy</th>\n",
       "      <th>Test_Accuracy</th>\n",
       "      <th>#TestData</th>\n",
       "      <th>#AllData</th>\n",
       "      <th>Classes</th>\n",
       "      <th>Confusion Matrix</th>\n",
       "    </tr>\n",
       "  </thead>\n",
       "  <tbody>\n",
       "    <tr>\n",
       "      <th>9</th>\n",
       "      <td>Glove</td>\n",
       "      <td>0.883673</td>\n",
       "      <td>0.818182</td>\n",
       "      <td>0.500000</td>\n",
       "      <td>24</td>\n",
       "      <td>133</td>\n",
       "      <td>['P', 'T', 'D', 'O']</td>\n",
       "      <td>[[ 1  1  0  4]\\n [ 1  1  1  2]\\n [ 2  0  0  0]...</td>\n",
       "    </tr>\n",
       "    <tr>\n",
       "      <th>9</th>\n",
       "      <td>Google_W2V</td>\n",
       "      <td>0.894737</td>\n",
       "      <td>0.836364</td>\n",
       "      <td>0.296296</td>\n",
       "      <td>27</td>\n",
       "      <td>133</td>\n",
       "      <td>['O', 'P', 'D', 'T']</td>\n",
       "      <td>[[5 6 0 2]\\n [0 3 0 3]\\n [1 2 0 0]\\n [0 5 0 0]]</td>\n",
       "    </tr>\n",
       "    <tr>\n",
       "      <th>9</th>\n",
       "      <td>Trained_W2V</td>\n",
       "      <td>0.943158</td>\n",
       "      <td>0.800000</td>\n",
       "      <td>0.185185</td>\n",
       "      <td>27</td>\n",
       "      <td>133</td>\n",
       "      <td>['P', 'D', 'H', 'T', 'O']</td>\n",
       "      <td>[[0 0 0 0 1]\\n [2 0 0 0 3]\\n [1 0 0 0 0]\\n [3 ...</td>\n",
       "    </tr>\n",
       "  </tbody>\n",
       "</table>\n",
       "</div>"
      ],
      "text/plain": [
       "        Models  Train_Accuracy  Val_Accuracy  Test_Accuracy  #TestData  \\\n",
       "9        Glove        0.883673      0.818182       0.500000         24   \n",
       "9   Google_W2V        0.894737      0.836364       0.296296         27   \n",
       "9  Trained_W2V        0.943158      0.800000       0.185185         27   \n",
       "\n",
       "   #AllData                    Classes  \\\n",
       "9       133       ['P', 'T', 'D', 'O']   \n",
       "9       133       ['O', 'P', 'D', 'T']   \n",
       "9       133  ['P', 'D', 'H', 'T', 'O']   \n",
       "\n",
       "                                    Confusion Matrix  \n",
       "9  [[ 1  1  0  4]\\n [ 1  1  1  2]\\n [ 2  0  0  0]...  \n",
       "9    [[5 6 0 2]\\n [0 3 0 3]\\n [1 2 0 0]\\n [0 5 0 0]]  \n",
       "9  [[0 0 0 0 1]\\n [2 0 0 0 3]\\n [1 0 0 0 0]\\n [3 ...  "
      ]
     },
     "execution_count": 16,
     "metadata": {},
     "output_type": "execute_result"
    }
   ],
   "source": [
    "df_frenardsally_disagree = pd.DataFrame()\n",
    "df_frenardsally_disagree = pd.concat([df_frenardsally_disagree,df_glove.iloc[9:10,:8]])\n",
    "df_frenardsally_disagree = pd.concat([df_frenardsally_disagree,df_google_w2v.iloc[9:10,:8]])\n",
    "df_frenardsally_disagree = pd.concat([df_frenardsally_disagree,df_trained_w2v.iloc[9:10,:8]])\n",
    "df_frenardsally_disagree['Coder'] = list_models\n",
    "df_frenardsally_disagree.rename(columns = {'Coder':'Models'}, inplace = True) \n",
    "\n",
    "df_frenardsally_disagree"
   ]
  },
  {
   "cell_type": "code",
   "execution_count": 39,
   "metadata": {},
   "outputs": [
    {
     "data": {
      "image/png": "[encoded data removed]",
      "text/plain": [
       "<Figure size 432x288 with 2 Axes>"
      ]
     },
     "metadata": {
      "needs_background": "light"
     },
     "output_type": "display_data"
    },
    {
     "data": {
      "image/png": "[encoded data removed]",
      "text/plain": [
       "<Figure size 432x288 with 2 Axes>"
      ]
     },
     "metadata": {
      "needs_background": "light"
     },
     "output_type": "display_data"
    },
    {
     "data": {
      "image/png": "[encoded data removed]",
      "text/plain": [
       "<Figure size 432x288 with 2 Axes>"
      ]
     },
     "metadata": {
      "needs_background": "light"
     },
     "output_type": "display_data"
    }
   ],
   "source": [
    "# Confusion Matrix Plot for GloVe\n",
    "plt.figure(1)\n",
    "df_cm = pd.read_csv(\"GloVe/Frenard_Sally_DisAgree.csv\")\n",
    "labels = list(set(df_cm['Y']))\n",
    "cm = confusion_matrix(df_cm['Y'], df_cm['Predicted_Values'], labels)\n",
    "\n",
    "ax= plt.subplot()\n",
    "sns.heatmap(cm, annot=True, ax = ax); #annot=True to annotate cells\n",
    "ax.set_xlabel('Predicted labels');ax.set_ylabel('True labels'); \n",
    "ax.set_title('GloVe - Confusion Matrix'); \n",
    "ax.xaxis.set_ticklabels(labels); ax.yaxis.set_ticklabels(labels);\n",
    "\n",
    "# Confusion Matrix Plot for GoogleW2V\n",
    "plt.figure(2)\n",
    "df_cm = pd.read_csv(\"GoogleW2V/Frenard_Sally_DisAgree.csv\")\n",
    "labels = list(set(df_cm['Y']))\n",
    "cm = confusion_matrix(df_cm['Y'], df_cm['Predicted_Values'], labels)\n",
    "\n",
    "ax= plt.subplot()\n",
    "sns.heatmap(cm, annot=True, ax = ax); #annot=True to annotate cells\n",
    "ax.set_xlabel('Predicted labels');ax.set_ylabel('True labels'); \n",
    "ax.set_title('GoogleW2V - Confusion Matrix'); \n",
    "ax.xaxis.set_ticklabels(labels); ax.yaxis.set_ticklabels(labels);\n",
    "\n",
    "# Confusion Matrix Plot for TrainedW2V\n",
    "plt.figure(3)\n",
    "df_cm = pd.read_csv(\"TrainedW2V/Frenard_Sally_DisAgree.csv\")\n",
    "labels = list(set(df_cm['Y']))\n",
    "cm = confusion_matrix(df_cm['Y'], df_cm['Predicted_Values'], labels)\n",
    "\n",
    "ax= plt.subplot()\n",
    "sns.heatmap(cm, annot=True, ax = ax); #annot=True to annotate cells\n",
    "ax.set_xlabel('Predicted labels');ax.set_ylabel('True labels'); \n",
    "ax.set_title('TrainedW2V - Confusion Matrix'); \n",
    "ax.xaxis.set_ticklabels(labels); ax.yaxis.set_ticklabels(labels);\n",
    "\n",
    "plt.show()"
   ]
  }
 ],
 "metadata": {
  "kernelspec": {
   "display_name": "Python 3",
   "language": "python",
   "name": "python3"
  },
  "language_info": {
   "codemirror_mode": {
    "name": "ipython",
    "version": 3
   },
   "file_extension": ".py",
   "mimetype": "text/x-python",
   "name": "python",
   "nbconvert_exporter": "python",
   "pygments_lexer": "ipython3",
   "version": "3.7.0"
  }
 },
 "nbformat": 4,
 "nbformat_minor": 2
}
